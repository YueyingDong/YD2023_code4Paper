{
 "cells": [
  {
   "cell_type": "markdown",
   "metadata": {},
   "source": [
    "# purpose: readin and transorm the data from experiment 2\n",
    "\n",
    "tracker\n",
    "- for each subjects read in the raw eyelink files (.txt), for pupil and gaze data\n",
    "- transform the long format(time x data) into wide format (trial x time)\n",
    "- add taggings for trial (subjectID, trial#, block#)\n",
    "- combine the files from every subjects into a mega csv sheet and save. Resulting in 2 gaze csv (x and y channels), 1 pupil csv\n",
    "\n",
    "behavior\n",
    "- readin the psychopy (i.e. the behavioral output)\n",
    "- only select the trials from experimental blocks, exclude practice trials\n",
    "- combine the files from every subjects into a mega csv sheet and save. Resulting in 1 behavioral csv\n",
    "\n",
    "consent\n",
    "- readin consent, get subject mean age,gender counts\n",
    "\n",
    "upnext: cleanELPup.ipynb"
   ]
  },
  {
   "cell_type": "markdown",
   "metadata": {},
   "source": [
    "# imports and functions"
   ]
  },
  {
   "cell_type": "code",
   "execution_count": 3,
   "metadata": {},
   "outputs": [],
   "source": [
    "import warnings\n",
    "warnings.filterwarnings(\"ignore\")\n",
    "#for handling RAM\n",
    "import gc \n",
    "\n",
    "#stats\n",
    "from statsmodels.stats.anova import AnovaRM\n",
    "import statsmodels.api as sm\n",
    "import statsmodels.formula.api as smf\n",
    "from statsmodels.formula.api import ols\n",
    "import pingouin as pg\n",
    "\n",
    "\n",
    "#my to go packages\n",
    "import math\n",
    "import random\n",
    "import pandas as pd\n",
    "import numpy as np\n",
    "\n",
    "#plotting\n",
    "import seaborn as sns\n",
    "import matplotlib.pyplot as plt\n",
    "from matplotlib.pyplot import figure\n",
    "from matplotlib.gridspec import GridSpec\n",
    "from matplotlib import cm\n",
    "\n",
    "\n",
    "#for readin\n",
    "import glob # Package for Unix-style pathname pattern expansion\n",
    "import os   # Python operating system interface\n",
    "\n",
    "#for signal processing\n",
    "from scipy.interpolate import CubicSpline,interp1d\n",
    "import scipy.signal as signal\n",
    "import scipy.stats as stats\n",
    "from scipy.signal import filtfilt, butter\n",
    "from scipy.fft import rfft, rfftfreq\n",
    "from scipy.stats import sem \n",
    "from scipy.stats import norm\n",
    "from scipy.stats import ttest_rel\n",
    "\n",
    "#other packages\n",
    "import ast\n",
    "import itertools\n",
    "from itertools import groupby\n",
    "from more_itertools import consecutive_groups\n",
    "import more_itertools as mit\n",
    "from operator import itemgetter\n",
    "import statistics\n",
    "from sklearn.mixture import GaussianMixture\n",
    "\n"
   ]
  },
  {
   "attachments": {},
   "cell_type": "markdown",
   "metadata": {},
   "source": [
    "# load params"
   ]
  },
  {
   "cell_type": "code",
   "execution_count": 4,
   "metadata": {},
   "outputs": [],
   "source": [
    "pd.set_option('display.max_columns', 500)\n"
   ]
  },
  {
   "cell_type": "code",
   "execution_count": 6,
   "metadata": {},
   "outputs": [],
   "source": [
    "#read in the mega df\n",
    "local_username = 'yud070' \n",
    "pathEL = 'Z:/LiteBrite_YueyingDong/22AK01ELRaw_tracker/'\n",
    "pathpy = 'Z:/LiteBrite_YueyingDong/22AK01ELRaw_psychopy/'\n",
    "\n",
    "readIn = [f for f in os.listdir(pathEL)] #list of subject id"
   ]
  },
  {
   "cell_type": "code",
   "execution_count": null,
   "metadata": {},
   "outputs": [],
   "source": [
    "#define the relevant columns that we need to extract from the pupil datasets\n",
    "relevantCols = ['RECORDING_SESSION_LABEL','AVERAGE_GAZE_X',\n",
    "       'AVERAGE_GAZE_Y','AVERAGE_PUPIL_SIZE','EYE_TRACKED','IP_LABEL','IP_START_TIME',\n",
    "      'LEFT_PUPIL_SIZE','RIGHT_PUPIL_SIZE','SAMPLE_MESSAGE','TIMESTAMP','TRIALID']\n",
    "pupCols = ['EYE_TRACKED','LEFT_PUPIL_SIZE','RIGHT_PUPIL_SIZE','AVERAGE_PUPIL_SIZE',\n",
    "           'IP_LABEL','TIMESTAMP','TRIALID']"
   ]
  },
  {
   "cell_type": "code",
   "execution_count": 8,
   "metadata": {},
   "outputs": [],
   "source": [
    "#timing params\n",
    "ts = [1000,1250,1750,2250,4250,4750] #stim onset, rest, retrocue, delay, probecue\n",
    "\n",
    "stim_ts = 0.25 \n",
    "precue_ts = 0.5 + stim_ts\n",
    "retrocue_ts = 0.5 + precue_ts\n",
    "post_cue_ts = 2 + retrocue_ts\n",
    "probe_cue = 0.5 + post_cue_ts\n",
    "probe_ts = 3 + post_cue_ts\n",
    "\n",
    "epoch_array = np.array([0,stim_ts,precue_ts,retrocue_ts,post_cue_ts,probe_cue])\n",
    "epoch_name = ['stim','rest','retrocue','rest','probe_cue','probe']\n"
   ]
  },
  {
   "cell_type": "code",
   "execution_count": 9,
   "metadata": {},
   "outputs": [
    {
     "data": {
      "text/plain": [
       "array([0.  , 0.25, 0.75, 1.25, 3.25, 3.75])"
      ]
     },
     "execution_count": 9,
     "metadata": {},
     "output_type": "execute_result"
    }
   ],
   "source": [
    "epoch_array"
   ]
  },
  {
   "cell_type": "code",
   "execution_count": null,
   "metadata": {},
   "outputs": [],
   "source": [
    "#some subject relevant params; i.e. these subjects only got one eye tracked\n",
    "leftEyeSubj = ['173','175']\n",
    "rightEyeSubj = ['183','185']\n",
    "\n",
    "#events\n",
    "events = ['fixateRest','stim','precueRest', 'retrocue',\n",
    "                            'postcueRest','probecue', 'probe', 'ITI','trialEnd']\n",
    "eventIndex = [0,1000,1250, 1750,2250,4250,4750,7750,8250]"
   ]
  },
  {
   "cell_type": "code",
   "execution_count": null,
   "metadata": {},
   "outputs": [],
   "source": [
    "#take the first [0,5]s in each recording, though the interest period is [0.5,4.75], but the padding\n",
    "#is included for better interpolating\n",
    "\n",
    "#params for reading in\n",
    "included = 5000 #5000ms\n",
    "\n",
    "#params for cleaning\n",
    "sdThreshold = 6\n",
    "pltAll = True\n",
    "interpCorrection = np.zeros(len(readIn))\n",
    "maxGapLen = 0.5\n",
    "minGapLen = 0.0\n",
    "freq = 1000\n",
    "gapMinN = minGapLen*freq"
   ]
  },
  {
   "cell_type": "code",
   "execution_count": null,
   "metadata": {},
   "outputs": [],
   "source": [
    "#for recording everyone's preprocessed data along with saccade tags\n",
    "psyFull = pd.DataFrame()\n",
    "\n",
    "pupFullTrial_raw = pd.DataFrame()\n",
    "saccFullTrial_x_raw = pd.DataFrame()\n",
    "saccFullTrial_y_raw = pd.DataFrame()\n",
    "eventDf = pd.DataFrame()"
   ]
  },
  {
   "cell_type": "code",
   "execution_count": null,
   "metadata": {},
   "outputs": [],
   "source": [
    "#for plotting\n",
    "cList = ['#fda48c','#f23908','#93648f','#33202a','#66b3ba','#03838f',]\n",
    "cDict = {\"['high']\":'#f23908',\"['medium']\":'#03838f',\"['low']\":'#593247'} \n"
   ]
  },
  {
   "attachments": {},
   "cell_type": "markdown",
   "metadata": {},
   "source": [
    "# read eyelink file"
   ]
  },
  {
   "cell_type": "code",
   "execution_count": null,
   "metadata": {},
   "outputs": [],
   "source": [
    "#readIn raw files\n",
    "for n,f in enumerate(readIn):\n",
    "\n",
    "    \"\"\" section1: read in \"\"\"\n",
    "    f = str(f)\n",
    "    print('start processing: ' + f)\n",
    "\n",
    "    #read in the eyelink file\n",
    "    el = pd.read_csv(glob.glob(pathEL+ f + '/*.txt')[0]\n",
    "             ,delimiter = \"\\t\", usecols = relevantCols)\n",
    "    \n",
    "    # manually correct for 149; cuz during experiment the id got wrongfully inputted as 148. So had to correct that.\n",
    "    # sorry.\n",
    "    if f == '149': \n",
    "        el['TRIALID'] = [i.replace('148','149') for i in el['TRIALID']]\n",
    "        \n",
    "    print('     readin: ' + f) \n",
    "\n",
    "    #decide which eye to use, default use avg pupil size from both eyes\n",
    "    selectEye = 'AVERAGE_PUPIL_SIZE'\n",
    "    if f in leftEyeSubj:\n",
    "        selectEye = 'LEFT_PUPIL_SIZE'\n",
    "    elif f in rightEyeSubj:\n",
    "        selectEye = 'RIGHT_PUPIL_SIZE'\n",
    "    elif el.EYE_TRACKED.iloc[0] != 'Binocular':\n",
    "        selectEye = el.EYE_TRACKED.iloc[0].upper()+ '_PUPIL_SIZE'\n",
    "\n",
    "    #after reading in el file, transform to trial * timestamp structure\n",
    "    pseudodf = el[(el.IP_LABEL == 'fullTrial')]\n",
    "    pseudodf = pseudodf.rename(columns={selectEye:'diameter_3d','TIMESTAMP':'pupil_timestamp'}).reset_index(drop = True)\n",
    "    pseudodf['diameter_3d'] = pd.to_numeric(pseudodf['diameter_3d'].replace('.',0))\n",
    "    pseudodf['AVERAGE_GAZE_X'] = pd.to_numeric(pseudodf['AVERAGE_GAZE_X'].replace('.',np.nan))\n",
    "    pseudodf['AVERAGE_GAZE_Y'] = pd.to_numeric(pseudodf['AVERAGE_GAZE_Y'].replace('.',np.nan))\n",
    "    pseudodf['eventOnset'] = pseudodf.SAMPLE_MESSAGE.astype(str) #prepare for index for  epoching\n",
    "    pseudodf['x'] = pseudodf.groupby('TRIALID').cumcount() #prepare for transformation\n",
    "\n",
    "    #raw pup and sacc, and another df dor epoch ts\n",
    "    pupRaw = pd.pivot_table(pseudodf[['x','diameter_3d','TRIALID']],values = 'diameter_3d',columns = 'x',index = 'TRIALID').reset_index().iloc[:,:included+1]\n",
    "    saccAllT_X = pd.pivot_table(pseudodf[['x','AVERAGE_GAZE_X','TRIALID']],values = 'AVERAGE_GAZE_X',columns = 'x',index = 'TRIALID').reset_index().iloc[:,:included+1]\n",
    "    saccAllT_Y = pd.pivot_table(pseudodf[['x','AVERAGE_GAZE_Y','TRIALID']],values = 'AVERAGE_GAZE_Y',columns = 'x',index = 'TRIALID').reset_index().iloc[:,:included+1]\n",
    "    \n",
    "    #extract event onset time\n",
    "    eventOnset = pseudodf.pivot(values = 'eventOnset',columns = 'x',index = 'TRIALID').reset_index()\n",
    "    eventOnset_subj = eventOnset.iloc[:,1:].apply(lambda x: np.where((x !='.')&(~x.isnull()))[0],axis = 1) +1\n",
    "    eventDf_subj = pd.DataFrame(np.concatenate(eventOnset_subj).reshape(len(eventOnset_subj), len(eventOnset_subj[0])), \n",
    "                 columns = events[:len(eventOnset_subj[0])])\n",
    "    eventDf_subj.insert(loc = 0,column = 'TRIALID',value = eventOnset.TRIALID)\n",
    "    \n",
    "    #concate\n",
    "    print('     start concate: ' + f)\n",
    "\n",
    "    #pupil.\n",
    "    pupFullTrial_raw = pd.concat([pupFullTrial_raw,pupRaw])\n",
    "    #gaze.\n",
    "    saccFullTrial_x_raw = pd.concat([saccFullTrial_x_raw,saccAllT_X])\n",
    "    saccFullTrial_y_raw = pd.concat([saccFullTrial_y_raw,saccAllT_Y])\n",
    "    #event.\n",
    "    eventDf = pd.concat([eventDf,eventDf_subj])\n"
   ]
  },
  {
   "attachments": {},
   "cell_type": "markdown",
   "metadata": {},
   "source": [
    "# read psychopy file"
   ]
  },
  {
   "cell_type": "code",
   "execution_count": null,
   "metadata": {},
   "outputs": [],
   "source": [
    "psyFull = pd.DataFrame() #placeholder\n",
    "\n",
    "for f in readIn:\n",
    "    f = str(f)\n",
    "    print('start processing' + f)\n",
    "    trlInfo = pd.read_csv(glob.glob(pathpy+f+ '/*.csv')[0])\n",
    "\n",
    "    #reject the practice trials, only keep the real trials\n",
    "    try:\n",
    "        trlInfo = trlInfo[(trlInfo.is_practice!=True)& (trlInfo.identifier.isnull() == False)]\n",
    "    except AttributeError:\n",
    "        trlInfo = trlInfo[(trlInfo.identifier.isnull() == False)]\n",
    "\n",
    "    #manually correct for subject 149 cuz their id was inputted wrongly.    \n",
    "    if f == '149':\n",
    "        trlInfo['identifier'] = [i.replace('148','149') for i in trlInfo.identifier]\n",
    "        trlInfo['participant'] = 149.0\n",
    "    psyFull = pd.concat([psyFull,trlInfo])\n",
    "\n",
    "psyFull = psyFull.drop_duplicates()"
   ]
  },
  {
   "cell_type": "markdown",
   "metadata": {},
   "source": [
    "## consent"
   ]
  },
  {
   "cell_type": "code",
   "execution_count": null,
   "metadata": {},
   "outputs": [],
   "source": [
    "consentInfo = pd.read_csv('Z:/LiteBrite_YueyingDong/data4Paper/consentInfo.csv')\n",
    "consentInfo = consentInfo[consentInfo.id.isin(psyFull.participant.unique())].reset_index(drop = True)"
   ]
  },
  {
   "cell_type": "code",
   "execution_count": null,
   "metadata": {},
   "outputs": [],
   "source": [
    "consentInfo['gender'].value_counts()"
   ]
  },
  {
   "cell_type": "code",
   "execution_count": null,
   "metadata": {},
   "outputs": [],
   "source": [
    "consentInfo.age.mean(),consentInfo.age.std()"
   ]
  },
  {
   "attachments": {},
   "cell_type": "markdown",
   "metadata": {},
   "source": [
    "# save \n"
   ]
  },
  {
   "cell_type": "code",
   "execution_count": null,
   "metadata": {},
   "outputs": [],
   "source": [
    "pathUnparsed = 'Z:/LiteBrite_YueyingDong/temp/unparsed/'\n",
    "subjs = input() #'148to169'"
   ]
  },
  {
   "cell_type": "code",
   "execution_count": null,
   "metadata": {},
   "outputs": [],
   "source": [
    "#save pup\n",
    "pupFullTrial_raw.to_csv(pathUnparsed + 'pupRaw/' + 'pupUnparsed_raw_'+ subjs+ '.csv')\n",
    "\n",
    "#save gaze, this is unmasked raw gaze\n",
    "saccFullTrial_x_raw.to_csv(pathUnparsed + 'saccX/' + 'saccUnparsed_X_raw'+ subjs+ '.csv')\n",
    "saccFullTrial_y_raw.to_csv(pathUnparsed + 'saccY/'+ 'saccUnparsed_Y_raw'+ subjs+ '.csv')\n",
    "\n",
    "#save event timings\n",
    "eventDf.to_csv(pathUnparsed + 'event/' + 'eventUnparsed_'+ subjs+ '.csv')"
   ]
  }
 ],
 "metadata": {
  "kernelspec": {
   "display_name": "base",
   "language": "python",
   "name": "python3"
  },
  "language_info": {
   "codemirror_mode": {
    "name": "ipython",
    "version": 3
   },
   "file_extension": ".py",
   "mimetype": "text/x-python",
   "name": "python",
   "nbconvert_exporter": "python",
   "pygments_lexer": "ipython3",
   "version": "3.9.7"
  },
  "orig_nbformat": 4
 },
 "nbformat": 4,
 "nbformat_minor": 2
}
