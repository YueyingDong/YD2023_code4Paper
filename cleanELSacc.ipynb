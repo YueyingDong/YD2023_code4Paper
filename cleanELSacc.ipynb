{
 "cells": [
  {
   "cell_type": "markdown",
   "metadata": {},
   "source": [
    "# purpose: readin, clean, parse the gaze data; extract saccade data from gaze; break the saccade into toward/away category; transform saccade into frequency; parse the saccade data\n",
    "previous: cleanELPup.ipynb\n",
    "\n",
    "clean gaze data:\n",
    "- readin the psychopy file (for tagging); blink mask (created by cleanELPup.ipynb); events; raw gaze file (x and y channels), and cleaned pupil data (created by cleanELPup.ipynb)\n",
    "- mask the raw gaze data (both channels); reject the masked periods. use nearest neighbour interpolation\n",
    "- reunit the data from pixel to percentage [-100,100%] on both channels\n",
    "\n",
    "reject trials:\n",
    "- created two datasets using two rejection criterias. 1. more strict dataset (used for main text) that checks for gaze drift; 2. more inclusive datasets that contains the same ID as in the cleaned pupil data (for supplement)\n",
    "\n",
    "find saccade\n",
    "- smooth the gaze array, and calculate the shifts using two methods: relative to each shift distance, and relative to the screen center\n",
    "- the results from the first method is then split into toward/away based on the trial information (whether the retrocue is to the left/right); This is done for both datasets\n",
    "- the toward/away shifts is transformed into frequency using rolling window average\n",
    "\n",
    "parse:\n",
    "- readin the event dataframe\n",
    "- epoch the retrocue data for gaze; saccade(shifts and frequency)\n",
    "\n",
    "save: \n",
    "- save the gaze (retrocue) and baseline period\n",
    "- for both datasets: save the epoched toward/away shifts, the shifts regard to screen center (also epoched); the frequency of toward/away\n",
    "\n",
    "upnext: pupResults.ipynb"
   ]
  },
  {
   "attachments": {},
   "cell_type": "markdown",
   "metadata": {},
   "source": [
    "# imports "
   ]
  },
  {
   "cell_type": "code",
   "execution_count": 24,
   "metadata": {},
   "outputs": [],
   "source": [
    "import warnings\n",
    "warnings.filterwarnings(\"ignore\")\n",
    "#for handling RAM\n",
    "import gc \n",
    "\n",
    "#stats\n",
    "from statsmodels.stats.anova import AnovaRM\n",
    "import statsmodels.api as sm\n",
    "import statsmodels.formula.api as smf\n",
    "from statsmodels.formula.api import ols\n",
    "import pingouin as pg\n",
    "\n",
    "\n",
    "#my to go packages\n",
    "import math\n",
    "import random\n",
    "import pandas as pd\n",
    "import numpy as np\n",
    "\n",
    "#plotting\n",
    "import seaborn as sns\n",
    "import matplotlib.pyplot as plt\n",
    "from matplotlib.pyplot import figure\n",
    "from matplotlib.gridspec import GridSpec\n",
    "from matplotlib import cm\n",
    "import matplotlib.ticker as ticker\n",
    "\n",
    "\n",
    "#for readin\n",
    "import glob # Package for Unix-style pathname pattern expansion\n",
    "import os   # Python operating system interface\n",
    "\n",
    "#for signal processing\n",
    "from scipy.interpolate import CubicSpline,interp1d\n",
    "import scipy.signal as signal\n",
    "import scipy.stats as stats\n",
    "from scipy.signal import filtfilt, butter\n",
    "from scipy.fft import rfft, rfftfreq\n",
    "from scipy.stats import sem \n",
    "from scipy.stats import norm\n",
    "from scipy.stats import ttest_rel\n",
    "\n",
    "#other packages\n",
    "import ast\n",
    "import itertools\n",
    "from itertools import groupby\n",
    "from more_itertools import consecutive_groups\n",
    "import more_itertools as mit\n",
    "from operator import itemgetter\n",
    "import statistics\n",
    "from sklearn.mixture import GaussianMixture\n",
    "\n"
   ]
  },
  {
   "attachments": {},
   "cell_type": "markdown",
   "metadata": {},
   "source": [
    "# functions"
   ]
  },
  {
   "cell_type": "code",
   "execution_count": 25,
   "metadata": {},
   "outputs": [],
   "source": [
    "#helper functions for speed array\n",
    "def find_abs_speed_noSmooth(timepoint,ps): #find the raw speed array without applying any smoothing\n",
    "\n",
    "    ds = np.zeros(len(ps))\n",
    "\n",
    "    try:\n",
    "        ps = pd.to_numeric(ps, errors='coerce').fillna(0.0) #repleace non numeric values with 0\n",
    "    except AttributeError:\n",
    "        ps = np.where(np.isnan(ps),0,ps)\n",
    "    \n",
    "    try:\n",
    "        ps = ps.values\n",
    "        timepoint = timepoint.values\n",
    "    except AttributeError:\n",
    "        pass\n",
    "\n",
    "    prev = abs((ps[1:-1] - ps[0:-2])/(timepoint[1:-1] -timepoint[0:-2]))\n",
    "    post = abs((ps[1:-1] -ps[2:])/ (timepoint[1:-1] -timepoint[2:]))\n",
    "               \n",
    "    ds[1:-1] = np.where(prev >= post,prev,post)\n",
    "    ds[0] = abs((ps[1] - ps[0])/ (timepoint[1] - timepoint[0]))\n",
    "    ds[-1] = abs((ps[-1] - ps[-2])/ (timepoint[-1] - timepoint[-2]))\n",
    "    \n",
    "    return ds\n",
    "def find_abs_speed_pup(ps): #this is same as find_abs_speed, but now using a smoothed speed array for pupil\n",
    "    #by using 5 points to calculate speed instead of 2\n",
    "    ds = np.zeros(len(ps))\n",
    "\n",
    "    try:\n",
    "        ps = pd.to_numeric(ps, errors='coerce').fillna(0.0) #repleace non numeric values with 0\n",
    "    except AttributeError:\n",
    "        ps = np.where(np.isnan(ps),0,ps)\n",
    "    \n",
    "    try:\n",
    "        nminus1 = ps.iloc[1:-3].values\n",
    "        nplus1 = ps.iloc[3:-1].values\n",
    "        nminus2 = ps.iloc[0:-4].values\n",
    "        nplus2 = ps.iloc[4:].values\n",
    "\n",
    "        ds[0] = abs(ps.iloc[1] - ps.iloc[0])\n",
    "        ds[1] = abs(ps.iloc[2] - ps.iloc[1])\n",
    "        ds[-1] = abs(ps.iloc[-1] - ps.iloc[-2])\n",
    "        ds[-2] = abs(ps.iloc[-2] - ps.iloc[-3])\n",
    "    except AttributeError:\n",
    "        nminus1 = ps[1:-3]\n",
    "        nplus1 = ps[3:-1]\n",
    "        nminus2 = ps[0:-4]\n",
    "        nplus2 = ps[4:]\n",
    "\n",
    "        ds[0] = abs(ps[1] - ps[0])\n",
    "        ds[1] = abs(ps[2] - ps[1])\n",
    "        ds[-1] = abs(ps[-1] - ps[-2])\n",
    "        ds[-2] = abs(ps[-2] - ps[-3])\n",
    "               \n",
    "    ds[2:-2] = abs((nplus1 + nplus2- nminus1 - nminus2  )/6)\n",
    "    \n",
    "    \n",
    "    return ds\n",
    "def find_rel_speed(vec):\n",
    "    #this is same as find_abs_speed_pup, except relative speed\n",
    "\n",
    "    try:\n",
    "        nminus1 = vec.iloc[1:-3].values\n",
    "        nplus1 = vec.iloc[3:-1].values\n",
    "        nminus2 = vec.iloc[0:-4].values\n",
    "        nplus2 = vec.iloc[4:].values\n",
    "    except AttributeError:\n",
    "        nminus1 = vec[1:-3]\n",
    "        nplus1 = vec[3:-1]\n",
    "        nminus2 = vec[0:-4]\n",
    "        nplus2 = vec[4:]\n",
    "    #calculate derivative\n",
    "    d = (nplus1 + nplus2- nminus1 - nminus2  )/6\n",
    "\n",
    "    return d"
   ]
  },
  {
   "cell_type": "code",
   "execution_count": 26,
   "metadata": {},
   "outputs": [],
   "source": [
    "#other helper functions\n",
    "def consecutive(data, stepsize=10,\n",
    "                findSame = False): # helper function for findGazeShift, deBlink, and more\n",
    "    \"\"\"\n",
    "    @ data = row vector\n",
    "    @ stepsize =  the larger the step size, the more difference it allows for two groups\n",
    "                to be considered within the same cluster\n",
    "    @ findSame = if True, find concecutive data point of the same value, this is set true\n",
    "                 for finding blink counts using the blink mask (a df of 0 and 1 )\n",
    "    \"\"\"\n",
    "    # this will split an array of numbers into many subarrays of consecutive numbers\n",
    "    # the stepsize controls for how close of the two numbers for them to be considered\n",
    "    # in the same cluster; e.g. [1,2,3,4,5,10] would be clustered together if stepsize = 5\n",
    "\n",
    "    #data is the array of timepoint where the saccade velocity array crossed the threshold\n",
    "    if findSame:\n",
    "        stepsize = 0\n",
    "        return np.split(data, np.where(abs(np.diff(data)) > stepsize)[0]+1)\n",
    "    return np.split(data, np.where(np.diff(data) > stepsize)[0]+1)\n",
    "def smooth(x,window_len=11,window='hanning'): #smoothing function\n",
    "    try:\n",
    "        x = x.values\n",
    "    except:\n",
    "        pass\n",
    "    # about np windows:\n",
    "    # https://numpy.org/doc/stable/reference/routines.window.html\n",
    "    if x.ndim != 1:\n",
    "        raise ValueError(\"smooth only accepts 1 dimension arrays.\")\n",
    "\n",
    "    if x.size < window_len:\n",
    "        raise ValueError(\"Input vector needs to be bigger than window size.\")\n",
    "\n",
    "    if window_len<3:\n",
    "        return x\n",
    "\n",
    "    if not window in ['flat', 'hanning', 'hamming', 'bartlett', 'blackman']:\n",
    "        raise ValueError(\"Window is on of 'flat', 'hanning', 'hamming', 'bartlett', 'blackman'\")\n",
    "\n",
    "    #this is to prepare the input for convolve i.e. add 1/2 window length padding before and after\n",
    "    s=np.r_[x[window_len-1:0:-1],x,x[-2:-window_len-1:-1]] \n",
    "    \n",
    "    if window == 'flat': #moving average\n",
    "        w=np.ones(window_len,'d')\n",
    "    else:\n",
    "        w=eval('np.'+window+'(window_len)')\n",
    "\n",
    "    #sliding window\n",
    "    y=np.convolve(w/w.sum(),s,mode='valid')\n",
    "    \n",
    "    #get rid of the paddings\n",
    "    return y[int(window_len/2):int(-0.5*window_len)] #select the data points to get rid of the delay\n",
    "def strictly_increasing(L):#check if an array is uniformly increasing\n",
    "    return all(x<y for x, y in zip(L, L[1:]))\n",
    "def fs(width,height):#setting plot size\n",
    "    plt.rcParams['figure.figsize'] = (width,height)\n"
   ]
  },
  {
   "cell_type": "code",
   "execution_count": 27,
   "metadata": {},
   "outputs": [],
   "source": [
    "#function used for blink identification\n",
    "def mad_func(ds,mad_threshold): #calculate the median absolute diviation (MAD)\n",
    "    \n",
    "    \"\"\"\n",
    "    function that calculate the median absolute diviation (MAD)\n",
    "    ---------------------------------------------\n",
    "    input: \n",
    "    ds: median absolute dilation speed, which is calculated in dilation_speed_filter\n",
    "    mad_threshold: the threshold of median deviation (MAD); any data that is above median dilation speed + threshold*(MAD) will be rejected\n",
    "    ---------------------------------------------\n",
    "    output:\n",
    "    returns a float and a boolean, first is the threshold, second is the bool array\n",
    "    \"\"\"\n",
    "    try:\n",
    "        ds = np.where(np.isnan(ds),0,ds)\n",
    "    except:\n",
    "        ds = np.where(ds.isnull(),0,ds)\n",
    "    mad = np.nanmedian(abs(ds - np.nanmedian(ds))) # median absolute deviation\n",
    "    rej_threshold = np.median(ds) + mad_threshold * mad # reject data above this threshold\n",
    "       \n",
    "    #returning an bool array, true = rejected, false = keep\n",
    "    return (abs(ds) >= rej_threshold)  , rej_threshold\n",
    "def reject_outlier(pt,rejarr, minGapLen = 0.03, borderlen = 0.05, borderlenBefore = 0,\n",
    "                   freq = 1000): # \n",
    "    \"\"\"\n",
    "  \n",
    "    ---------------------------------------------\n",
    "    input:\n",
    "    pt: pupil timestamps from pup_raw\n",
    "    rejarr: pupil diameter with nans, assigning nan to the pupil array using the output of dilation_speed_filter()\n",
    "    ---------------------------------------------\n",
    "    output: return a dictionary, each key is the starting time of the nan value, each value is the end time of nan\n",
    "    \n",
    "    \"\"\"\n",
    "    borderN = borderlen* freq #number of adjacent data points that needs to be rejected\n",
    "    borderNbefore = borderlenBefore * freq\n",
    "    gapMinN = minGapLen * freq #number of data points in the gap\n",
    "    \n",
    "    b = np.where(rejarr==True, np.nan,rejarr)\n",
    "    idx0 = np.flatnonzero(np.r_[True, np.diff(np.isnan(b))!=0,True])\n",
    "    count = np.diff(idx0)\n",
    "    idx = idx0[:-1]\n",
    "    valid_mask =  np.isnan(b[idx])\n",
    "    out_idx = idx[valid_mask]\n",
    "    out_count = count[valid_mask]\n",
    "    m = out_idx + out_count-1\n",
    "    out = list(zip(out_idx, m))\n",
    "\n",
    "    if len(out) == 0:\n",
    "        return out\n",
    "\n",
    "    #if the number of consecutively rejected data satisfies as a gap, record it\n",
    "    outbool = np.array([(out[i][-1] - out[i][0])> gapMinN for i in range(len(out))])\n",
    "    conRejarr = np.array(out)[outbool]\n",
    "    gapCorrarr = [[]]*len(conRejarr)\n",
    "    \n",
    "    for i in range(len(conRejarr)):\n",
    "        conRejarr[i][0] = max(0,conRejarr[i][0]-borderNbefore)\n",
    "        #print(conRejarr[i][-1],conRejarr[i][-1]+borderN)\n",
    "        conRejarr[i][-1] = min(len(pt)-1,conRejarr[i][-1]+borderN)\n",
    "        gapCorrarr[i] = np.arange(conRejarr[i][0],conRejarr[i][-1]+1)\n",
    "   \n",
    "    return np.array(gapCorrarr)\n",
    "def blkLen(rowInput,blkLen):#counts how many blink has occured using the mask df\n",
    "    #blink len default = how many consecutive points for one event to be registered as blink\n",
    "    #count this as 1 blink event\n",
    "    boolMask = [list(g)[0]>0 for k, g in groupby(rowInput) ]\n",
    "    repeatingVal = np.array([list(g) for k, g in groupby(rowInput)])\n",
    "    \n",
    "    blkArr = repeatingVal[boolMask]\n",
    "    blkCnt = sum([len(i) > blkLen for i in blkArr])\n",
    "    return blkCnt\n",
    "def medianVariance(vec):#vec is the result from find_abs_speed_pup/sacc\n",
    "    try:\n",
    "        val = np.nanmedian(abs(vec - np.nanmedian(vec)))\n",
    "    except:\n",
    "        print('F**k! medianVariance function encountered an error:')\n",
    "        print('dtype of vec:' + str(type(vec)))\n",
    "        print('np.nanmedian(vec) :' + str(np.nanmedian(vec)))\n",
    "    return val"
   ]
  },
  {
   "cell_type": "code",
   "execution_count": 28,
   "metadata": {},
   "outputs": [],
   "source": [
    "#older functions\n",
    "def interpolate_blink(paddedRejIndex,paddedRejBool, timestamp,pupilsize,\n",
    "                      maxGapLen = 0.5,freq = 200):#paddedRejIndex = output from reject_outlier; ..Bool is the pseudodf['paddedDsRej']\n",
    "    # check for the length for each gap, if it's longer than the maximum length defined for a gap\n",
    "    # then don't interpolate, just leave it blank\n",
    "    interpolateIndex = paddedRejIndex[[len(i)<maxGapLen*freq for i in paddedRejIndex]]\n",
    "    \"\"\" i found that it works better to not smooth the pupil size\n",
    "     \"\"\"\n",
    "    pupilsize = np.array(smooth(pupilsize))\n",
    "   \n",
    "    #for each blink, select the onset/offset pupil size, as well as two equal distant time point,call it ref list\n",
    "    refList = np.array([np.array([max(0,i[0] - len(i)),i[0],i[-1],min(len(timestamp)-1,i[-1] + len(i))]) for i in interpolateIndex])\n",
    "    \n",
    "    #use the refList to retrieve the paddedRejIndex, if more than 2 values are True, i.e. the first and last reference points\n",
    "    #are also rejected data, then use the linear interpolation, else if the first and last ref points can be retrieved,\n",
    "    #use cubic spline interpolation\n",
    "    linearList = refList[np.sum(paddedRejBool.values[refList],axis = 1) > 2]\n",
    "    cubicList = refList[np.sum(paddedRejBool.values[refList],axis = 1)== 2]\n",
    "    \n",
    "    #use the linearlist or cubic list, find the timestamp or pupilsize values used for interpolation\n",
    "    cubictss = timestamp.values[cubicList]\n",
    "    cubicarr = pupilsize[cubicList]#pupilsize.values[cubicList]\n",
    "    \n",
    "    lineartss = timestamp.values[linearList]\n",
    "    lineararr = pupilsize[linearList]#pupilsize.values[linearList]\n",
    "    \n",
    "    #calculate the interpolated values; Index is the array of timestamp arrays, FuncList is the interpolated value\n",
    "    cubicIndex = [np.array(timestamp.iloc[cubicList[i][1]:cubicList[i][2]]) for i in range(len(cubicList))]\n",
    "    csFuncList = [CubicSpline(cubictss[i],cubicarr[i])(cubicIndex[i]) for i in range(len(cubicList))]\n",
    "\n",
    "    linearIndex = [np.array(timestamp.iloc[linearList[i][1]:linearList[i][2]]) for i in range(len(linearList))]\n",
    "    lFuncList = [interp1d(lineartss[i],lineararr[i])(linearIndex[i]) for i in range(len(linearList))]\n",
    "   \n",
    "    return cubicIndex,csFuncList,linearIndex,lFuncList\n",
    "def dsclean(thisdf,arr):\n",
    "    \"\"\"\n",
    "    this is the main function for reject, clean, and interpolate\n",
    "    thisdf is the df of the specific subject\n",
    "    #1st it, arr = 'diameter_3d', 2+ it, arr = 'diameter_3dNew'\n",
    "    \n",
    "    note: outside the function, these four variables needs to be specified, e.g.\n",
    "    maxGapLen = 1; minGapLen = 0.0 ; freq = 1000; gapMinN = minGapLen*freq; gapMaxN = maxGapLen*freq\n",
    "    \n",
    "    \n",
    "    \"\"\"\n",
    "    #1st ite\n",
    "    arr = thisdf[arr] #1st it, arr = diameter_3d, 2+ it, arr = diameter_3dNew\n",
    "    rejarr,rejThreshold = mad_func(find_abs_speed(thisdf.pupil_timestamp,arr),3.5)    #need to get rid of zeros\n",
    "    thisdf['dsRej'] = (rejarr == True) | (arr.isnull()) | (arr == 0)\n",
    "\n",
    "    paddedDsRej = reject_outlier(thisdf.pupil_timestamp,thisdf.dsRej,minGapLen = minGapLen,borderlen=0.025,freq= 1000)\n",
    "    thisdf['paddedDsRej'] = np.where(thisdf.index.isin(np.concatenate(paddedDsRej)),True,False)\n",
    "\n",
    "    gapCorrarr = np.where(thisdf.paddedDsRej)[0]\n",
    "    #the sum of sublist in gapCorrarrparsed is the same length as the gapCorrarr\n",
    "    gapCorrarrParsed = [np.array(list(group)) for group in mit.consecutive_groups(gapCorrarr)] \n",
    "\n",
    "    #if the gap is shorter than minimum length, don't count it as a gap (but i've set min gap len to 0)\n",
    "    outbool = np.array([(gapCorrarrParsed[i][-1] - gapCorrarrParsed[i][0])> gapMinN for i in range(len(gapCorrarrParsed))])\n",
    "    gapCorrarrParsed = np.array(gapCorrarrParsed)[outbool]\n",
    "    #correct the paddedDsRej, excluding shorter-than-gap values, i.e. set those to false\n",
    "    thisdf['paddedDsRejNoGap'] = np.where(thisdf.index.isin(np.concatenate(gapCorrarrParsed)),True,False)\n",
    "\n",
    "    #also don't interpolate for gap length longer than maximum gap len\n",
    "    #first iteration use diameter 3d\n",
    "    csts,csi,lts,li = interpolate_blink(paddedRejIndex = gapCorrarrParsed,\n",
    "                                        paddedRejBool = thisdf['paddedDsRejNoGap'],\n",
    "                                        timestamp = thisdf.pupil_timestamp,\n",
    "                                        pupilsize = arr,\n",
    "                                        freq = 1000) #this pupilsize is different for iteretions\n",
    "\n",
    "    #for this 1st iteration, make a copy of diameter 3d to add the interpolated data\n",
    "    thisdf['diameterThisIter'] = arr #this pupilsize is different for iteretions\n",
    "    try:\n",
    "        thisdf.loc[np.where(thisdf['pupil_timestamp'].isin(np.concatenate(csts)))[0],'diameterThisIter'] = np.concatenate(csi)\n",
    "        thisdf.loc[np.where(thisdf['pupil_timestamp'].isin(np.concatenate(lts)))[0],'diameterThisIter'] = np.concatenate(li)\n",
    "    except ValueError: \n",
    "        print('no array to concat')\n",
    "    \"\"\"\n",
    "    minPup = np.mean(thisdf['diameterThisIter']) - 3*np.std(thisdf['diameterThisIter'])\n",
    "    maxPup = np.mean(thisdf['diameterThisIter']) + 3*np.std(thisdf['diameterThisIter'])\n",
    "\n",
    "    #also reject periods of pupil size that's larger the 3 sd away from the median, callit diameter_3dNew\n",
    "    thisdf['diameter_3dNew'] = np.where(((thisdf['diameterThisIter']<minPup)|(thisdf['diameterThisIter']>maxPup)),0, thisdf['diameterThisIter'] )\n",
    "    \"\"\"\n",
    "    return thisdf\n",
    "def tlclean(thisdf,windown = 501,mad = 10,\n",
    "            psCol = 'diameterThisIter',tsCol = 'pupil_timestamp',psColNew = 'diameter_3dNew'):\n",
    "    \n",
    "    #make trendline by interpolating and smoothing\n",
    "    cs = CubicSpline(thisdf[tsCol][~thisdf[psCol].isnull()].values,\n",
    "                   thisdf[psCol][~thisdf[psCol].isnull()].values)\n",
    "    interp = cs(thisdf[tsCol])\n",
    "    smoothed = smooth(interp,windown)\n",
    "    #tlmad = bool list\n",
    "    tlmad = mad_func(thisdf[psCol] -smoothed,mad)[0]\n",
    "    thisdf['dsRej'] = (tlmad == True) | (thisdf[psCol].isnull() == True) | (thisdf[psCol] == 0)\n",
    "\n",
    "    #don't pad the tl deviations\n",
    "    arr = thisdf[psCol]\n",
    "    gapCorrarr = (np.where(thisdf.dsRej)[0]) \n",
    "    #the sum of sublist in gapCorrarrparsed is the same length as the gapCorrarr\n",
    "    gapCorrarrParsed = np.array([np.array(list(group)) for group in mit.consecutive_groups(gapCorrarr)]) \n",
    "\n",
    "    #preparation for interpolation\n",
    "    interpolateIndex = gapCorrarrParsed[[len(i)<maxGapLen*freq for i in gapCorrarrParsed]]\n",
    "    refList = np.array([np.array([max(0,i[0] - len(i)),i[0],i[-1],min(len(thisdf[tsCol])-1,i[-1] + len(i))]) for i in interpolateIndex])\n",
    "    increasingList = np.array([strictly_increasing(i) for i in refList])\n",
    "\n",
    "    linearList = refList[(np.sum(thisdf['dsRej'].values[refList],axis = 1) > 2) | (increasingList== False) ]\n",
    "    cubicList = refList[(np.sum(thisdf['dsRej'].values[refList],axis = 1)== 2) & (increasingList)]\n",
    "\n",
    "    #use the linearlist or cubic list, find the thisdf[tsCol] or arr values used for interpolation\n",
    "    cubictss = thisdf[tsCol].values[cubicList]\n",
    "    cubicarr = arr.values[cubicList]\n",
    "    #correct for nan\n",
    "    cubicList = cubicList[np.isnan(cubicarr).sum(axis = 1) !=1]##\n",
    "    cubictss = cubictss[np.isnan(cubicarr).sum(axis = 1) !=1]##\n",
    "    cubicarr = cubicarr[np.isnan(cubicarr).sum(axis = 1) !=1] ##\n",
    "\n",
    "    #for linear\n",
    "    lineartss = thisdf[tsCol].values[linearList]\n",
    "    lineararr = arr.values[linearList]\n",
    "    #correct for nan\n",
    "    linearList = linearList[np.isnan(lineararr).sum(axis = 1) !=1]##\n",
    "    lineartss = lineartss[np.isnan(lineararr).sum(axis = 1) !=1]##\n",
    "    linearr = lineararr[np.isnan(lineararr).sum(axis = 1) !=1] ##\n",
    "\n",
    "\n",
    "    #calculate the interpolated values; Index is the array of thisdf[tsCol] arrays, FuncList is the interpolated value\n",
    "    cubicIndex = [np.array(thisdf[tsCol].iloc[cubicList[i][1]:cubicList[i][2]]) for i in range(len(cubicList))]\n",
    "    csFuncList = [CubicSpline(cubictss[i],cubicarr[i])(cubicIndex[i]) for i in range(len(cubicList))]\n",
    "\n",
    "    linearIndex = [np.array(thisdf[tsCol].iloc[linearList[i][1]:linearList[i][2]]) for i in range(len(linearList))]\n",
    "    lFuncList = [interp1d(lineartss[i],lineararr[i])(linearIndex[i]) for i in range(len(linearList))]\n",
    "\n",
    "    #for this 1st iteration, make a copy of diameter 3d to add the interpolated data\n",
    "    thisdf[psColNew] = arr #copy the old ps column, then modify it using the interpolated values\n",
    "    thisdf.loc[np.where(thisdf[tsCol].isin(np.concatenate(cubicIndex)))[0],psColNew] = np.concatenate(csFuncList)\n",
    "    thisdf.loc[np.where(thisdf[tsCol].isin(np.concatenate(linearIndex)))[0],psColNew] = np.concatenate(lFuncList)\n",
    "    \n",
    "    return thisdf\n",
    "def tl(thisdf,windown = 501,mad = 10,\n",
    "       psCol = 'diameterThisIter',tsCol = 'pupil_timestamp',psColNew = 'diameter_3dNew'):\n",
    "    #make trendline by interpolating and smoothing\n",
    "    cs = CubicSpline(thisdf[tsCol][~thisdf[psCol].isnull()].values,\n",
    "                   thisdf[psCol][~thisdf[psCol].isnull()].values)\n",
    "    interp = cs(thisdf[tsCol])\n",
    "    smoothed = smooth(interp,windown)\n",
    "    #tlmad = bool list\n",
    "    tlmad = mad_func(thisdf[psCol] -smoothed,mad)[0]\n",
    "    return tlmad\n",
    "def tlFinal(x,y,windown = 101,mad = 10):\n",
    "    #this is for doing trialwise tl rejection, not very necessay but since the input format\n",
    "    #is slightly different from the tl function, i'm including it as a sepearte one\n",
    "    cs = CubicSpline(x[~np.isnan(y)],\n",
    "                    y[~np.isnan(y)])\n",
    "    interp = cs(x)\n",
    "    smoothed = smooth(interp,windown)\n",
    "    #tlmad = bool list\n",
    "    tlmad = mad_func(y-smoothed,mad)[0]\n",
    "    return tlmad"
   ]
  },
  {
   "cell_type": "code",
   "execution_count": 125,
   "metadata": {},
   "outputs": [],
   "source": [
    "#core functions\n",
    "def deBlink(rawPup,timestamp,\n",
    "            returnMask = False,\n",
    "            maxGapt = 2,\n",
    "            minGapt= 0.003,\n",
    "            freq = 1000,\n",
    "            borderlenBef=0.001,\n",
    "            borderlenAft=0.01,\n",
    "            clusterLapse = 0.15,\n",
    "            plotSteps = False,\n",
    "            madThreshold = 3.5,\n",
    "            ):\n",
    "    \"\"\"\n",
    "    #this function clean the pupil array, and generate a boolean blink mask array\n",
    "    @ rawPup = each row in the epoched pupil table\n",
    "    @ timestamp = \n",
    "    @ returnMask: if true, return the boolean mask only (this is necessday because df.apply can't return two dfs)\n",
    "    @ minGapt = \n",
    "    @ freq = \n",
    "    @ borderlenBef = paddings to add after each blink\n",
    "    @ borderlenAft = paddings to add before each blink\n",
    "    @ clusterLapse = larger value will count more distant blinks as one, resulting in more data rejected\n",
    "    @ plotSteps = if True, generate a plot for the cleaning step\n",
    "    @ madThreshold = speed threshold for rejection\n",
    "    \"\"\"\n",
    "    #find the raw rej arr; This use a smoothed pupil change speed array to find the threshold\n",
    "    #crossings\n",
    "    rejarr = mad_func(find_abs_speed_pup(rawPup),madThreshold)[0] | (rawPup < 2000)\n",
    "\n",
    "    #initialize two mask array, these will store the processed blink mask\n",
    "    rejarr_padded = np.zeros(len(rejarr))\n",
    "    rejarr_blkMask = np.zeros(len(rejarr))\n",
    "\n",
    "    #pad the mask\n",
    "    try:\n",
    "        np.put(rejarr_padded, np.concatenate(reject_outlier(timestamp, rejarr, minGapLen= minGapt, borderlenBefore=borderlenBef,\n",
    "                                                    borderlen=borderlenAft)), 1, mode='clip')\n",
    "    except ValueError:\n",
    "        rejarr_padded = rejarr\n",
    "\n",
    "    #identify clusters in the mask (if two blink are too close, count them as one cluster and mask off the lapse between)\n",
    "    #put the resulting mask into rejarr_blkMask, this will be returned as output\n",
    "    try:\n",
    "        consecutiveBlkFilter = np.array([np.arange(i[0], i[-1]+1) for i in consecutive(np.where(rejarr_padded)[0], \n",
    "                                                                                       stepsize= clusterLapse*freq)])\n",
    "        np.put(rejarr_blkMask, np.concatenate(consecutiveBlkFilter), 1, mode='clip')\n",
    "    except ValueError:\n",
    "        rejarr_blkMask = rejarr_padded\n",
    "    except IndexError: \n",
    "        return rawPup\n",
    "        \n",
    "    blkMask = rejarr_blkMask.copy()\n",
    "\n",
    "    #just return the mask if necessary\n",
    "    if returnMask:\n",
    "        return blkMask\n",
    "\n",
    "    \"\"\"clean\"\"\"\n",
    "    #use this mask to clean the pupil, mask off the data in blink\n",
    "    #creating a copy for the plot because we will change the value of maskedPup \n",
    "    maskedPup_plt = np.where(rejarr_blkMask, np.nan, rawPup) \n",
    "    maskedPup = maskedPup_plt.copy() \n",
    "\n",
    "    \"\"\"interpolation\"\"\"\n",
    "    # reshape the clusted blink mask into arrays of clusted index, if its lenth if larger than the \n",
    "    # maximum gap lenth * frequency, then don't interpolate for this cluster, just leave it blank\n",
    "    rejCluster = consecutive(np.where(rejarr_blkMask)[0], 1)\n",
    "    rejCluster = np.array([k for k in rejCluster if len(k) < maxGapt*freq])\n",
    "\n",
    "    #find four index for interpolation\n",
    "    indexForInterp = np.array([np.array([max(0, i[0] - len(i)),\n",
    "                                        max(0, i[0]-1),\n",
    "                                        min(i[-1]+1, len(timestamp)-1),\n",
    "                                        min(len(timestamp)-1, i[-1] + len(i))]) for i in rejCluster])\n",
    "    \n",
    "    #when applying this function to a df, sometime it required the input to be in specific format\n",
    "    try:\n",
    "        timestamp = timestamp.values\n",
    "        rawPup = rawPup.values\n",
    "    except AttributeError:\n",
    "        timestamp = np.array(timestamp)\n",
    "        rawPup = np.array(rawPup)\n",
    "    \n",
    "    #run the following if there there are available blink clusters for interpolation, interpolate\n",
    "    try:\n",
    "        #get the timestamp and pupil size (masked) for creating the interpolation function\n",
    "        tsForInterp = timestamp[indexForInterp]\n",
    "        cleanPupForInterp = maskedPup[indexForInterp]\n",
    "        \n",
    "        #get the timestemp for exptrapolate the missing pupil size\n",
    "        tsForExtrap = [timestamp[i] for i in rejCluster]\n",
    "        \n",
    "        #for each available blink cluster,try use the cubic spline interpolation of 4 points\n",
    "        #but if any point if nan, then use linear; but if it still can't (e.g. only one data point availble)\n",
    "        #then don't interpolate, leave it as nan\n",
    "        for i in range(len(rejCluster)):\n",
    "            try:\n",
    "                pupExtrapolated = CubicSpline(tsForInterp[i], cleanPupForInterp[i])(tsForExtrap[i].astype(float))\n",
    "            except ValueError:\n",
    "                try:  # if cant find reference points, use linear interpolation\n",
    "                    pupExtrapolated = interp1d(tsForInterp[i][1:3], cleanPupForInterp[i][1:3])(tsForExtrap[i].astype(float))\n",
    "                # if still gives error, then dont interpolate (usually the case with trial start/end)\n",
    "                except ValueError:\n",
    "                    pupExtrapolated = np.nan\n",
    "            #fill each blink cluster with interpolated pupil value\n",
    "            maskedPup[rejCluster[i]] = pupExtrapolated\n",
    "    except IndexError:\n",
    "        pass\n",
    "\n",
    "    if plotSteps:\n",
    "        fig, ax = plt.subplots(nrows=5)\n",
    "        #plot speed and threshold of rejection\n",
    "        sns.scatterplot(x= timestamp, y= find_abs_speed_pup(rawPup), ax=ax[0])\n",
    "        ax[0].hlines(mad_func(find_abs_speed_pup(rawPup), 3.5)[1],\n",
    "                    xmin=timestamp[0], xmax=timestamp[-100], colors='r')\n",
    "        #plot the unfilted mask\n",
    "        sns.scatterplot(x=timestamp, y=rawPup, hue=rejarr, ax=ax[1])\n",
    "        #plot the filtered mask\n",
    "        sns.scatterplot(x=timestamp, y=rawPup, hue=rejarr_blkMask, ax=ax[2])\n",
    "        #plot the pupil data after it's been masked\n",
    "        sns.scatterplot(x=timestamp, y=maskedPup_plt, ax=ax[3])\n",
    "        #plot the interpolated pupil size\n",
    "        sns.scatterplot(x=timestamp, y=maskedPup, ax=ax[4])\n",
    "        \n",
    "        ax[1].sharex(ax[0])\n",
    "        ax[2].sharex(ax[0])\n",
    "        ax[3].sharex(ax[0])\n",
    "        ax[4].sharex(ax[0])\n",
    "\n",
    "    \n",
    "    return maskedPup\n",
    "def findGazeShift(xvec,threshold = 6, countTogether = 50, \n",
    "                   baseline = None, winlen = 50,shiftmin = 2.14,\n",
    "                   baselinePadding = 0):\n",
    "    \"\"\"\n",
    "    @ xvec =  the gaze position (it should be each row in the saccRetro_X df)\n",
    "    @ threshold = the velocity filter threshold\n",
    "    @ countTogether = the maximum delay for two gaze shift cluster to be count as one\n",
    "    @ baseline = if none, calculate relative baseline  (i.e. in regard to position before and after shift)\n",
    "                else it should be a list of index to indicate baseline rage, e.g. [500,1000]\n",
    "    @ winlen = for the onset of each identified gazeshift cluster, get the [-winlen,0] and [winlen, 2+ winlen]\n",
    "            to calculate the mean gaze position before and after the shift occur\n",
    "    @ shiftmin = the minimum shift in gaze position for it to be considered as a real shift\n",
    "            default = 2.14 pixel = 0.057 visual degree\n",
    "    @ baselinePadding = the padding to add before the identified gaze shift, this is only meaningful if baseline\n",
    "                        is None (i.e. the shift regarding to gaze position before and after)\n",
    "    \n",
    "    \"\"\"\n",
    "    # get speed vector\n",
    "    # since we are using 4 time points to calculate the speed array (see find abs speed sacc function)\n",
    "    # the len of dx, dy is 4 points less than the length of xvec. \n",
    "    dx = find_abs_speed_sacc(xvec)\n",
    "    #get threshold, then get a boolean array, for finding threshold crossing clusters\n",
    "    thresholdx = [np.nanmedian(dx) + medianVariance(dx) *threshold,np.nanmedian(dx) - medianVariance(dx) *threshold]\n",
    "    cx = (dx>thresholdx[0]) | (dx < thresholdx[1])\n",
    "    cx = np.r_[False,False,cx,False,False] #correct for the four lost points\n",
    "\n",
    "\n",
    "    # Deselect period at the beginning and the end of the position array i.e.掐头去尾\n",
    "    # and re-identify the saccade cluster after applying both masks\n",
    "    # if two clusteres are close enough (50ms), then count them as one\n",
    "    onsetoffsetmask = np.r_[np.zeros(winlen + baselinePadding),np.ones(len(cx) - 3*winlen - 2* baselinePadding),np.zeros(2*winlen + baselinePadding)].astype(bool) #to deselect data in the first and last 50ms \n",
    "    maskedcx = np.where(cx & onsetoffsetmask)[0] \n",
    "    msCluster = consecutive(maskedcx,countTogether)\n",
    "\n",
    "    # initialize the output array with zeros, calculate the mean pos before and after the shift\n",
    "    gazeshift = np.zeros(len(xvec))    \n",
    "\n",
    "    try:\n",
    "        for i in msCluster:\n",
    "            #if user doesn't provide a baseline value, use relative baseline\n",
    "            if baseline == None:\n",
    "                befIndex = [i[0] - winlen - baselinePadding,i[0]- baselinePadding]\n",
    "            else:\n",
    "                befIndex = baseline\n",
    "            try:\n",
    "                posbef = np.nanmean(xvec.iloc[befIndex[0] : befIndex[1]])\n",
    "                posaft = np.nanmean(xvec.iloc[i[0] + winlen + baselinePadding : i[0] + 2*winlen + baselinePadding]) \n",
    "\n",
    "            except AttributeError: # this is to account for when using df.apply(raw = True),xvec is an array, not series\n",
    "                posbef = np.nanmean(xvec[befIndex[0] : befIndex[1]])\n",
    "                posaft = np.nanmean(xvec[i[0] + winlen + baselinePadding: i[0] + 2*winlen + baselinePadding]) \n",
    "\n",
    "            if abs(posaft - posbef) > shiftmin: \n",
    "                #toss away a ms if its less than a minimum visual degree \n",
    "                gazeshift[i[0]] = posaft - posbef \n",
    "            else:\n",
    "                pass\n",
    "    except IndexError: #i.e. if msCluster is empty, it gives error when trying to index i[0], in this case just return the 0 array\n",
    "        return gazeshift\n",
    "    return gazeshift\n",
    "def eDist(a,b): #eucleadian distance\n",
    "    return np.sqrt(a**2+b**2)\n",
    "def findGazeShift2d(xvec,yvec,threshold = 6, countTogether = 50, \n",
    "                   baseline = None, winlen = 50,shiftmin = 0.2,\n",
    "                   baselinePadding = 0,shiftWhere = False,):\n",
    "    \"\"\"\n",
    "    @ xvec =  the gaze position horizontal channel\n",
    "    @ yvec = the gaze position vertical channel\n",
    "    @ threshold = the velocity filter threshold\n",
    "    @ countTogether = the maximum delay for two gaze shift cluster to be count as one\n",
    "    @ baseline = if ***none***, calculate relative baseline  (i.e. in regard to position before and after shift)\n",
    "                if ***list***, it indicate baseline rage, e.g. [500,1000]\n",
    "                if ***numeric***, use the numeric value as baseline\n",
    "    @ winlen = for the onset of each identified gazeshift cluster, get the [-winlen,0] and [winlen, 2+ winlen]\n",
    "            to calculate the mean gaze position before and after the shift occur\n",
    "    @ shiftmin = the minimum shift in gaze position for it to be considered as a real shift\n",
    "            default = 0.2% \n",
    "    @ baselinePadding = the padding to add before the identified gaze shift, this is only meaningful if baseline\n",
    "                        is None (i.e. the shift regarding to gaze position before and after)\n",
    "    @ shiftWhere = if True, only return the index where shift occurs. This is useful if use needs to combine\n",
    "                    the horizontal and vertical gaze arrays. \n",
    "                    \n",
    "    \"\"\"\n",
    "    # get speed vector\n",
    "    # since we are using 4 time points to calculate the speed array (see find abs speed sacc function)\n",
    "    # the len of dx, dy is 4 points less than the length of xvec. \n",
    "    dx = find_abs_speed_pup(xvec).astype(float)\n",
    "    dy = find_abs_speed_pup(yvec).astype(float)\n",
    "    dxySqrt = eDist(dx,dy)\n",
    "\n",
    "    #get threshold, then get a boolean array, for finding threshold crossing clusters\n",
    "    thresholdx = np.nanmedian(dxySqrt) + medianVariance(dxySqrt) *threshold\n",
    "    cx = dxySqrt>thresholdx\n",
    "    \n",
    "    # Deselect period at the beginning and the end of the position array i.e.掐头去尾\n",
    "    # and re-identify the saccade cluster after applying both masks\n",
    "    # if two clusteres are close enough (50ms), then count them as one\n",
    "    onsetoffsetmask = np.r_[np.zeros(winlen + baselinePadding),np.ones(len(cx) - 3*winlen - 2* baselinePadding),np.zeros(2*winlen + baselinePadding)].astype(bool) #to deselect data in the first and last 50ms \n",
    "    maskedcx = np.where(cx & onsetoffsetmask)[0] \n",
    "    msCluster = consecutive(maskedcx,countTogether)\n",
    "    \n",
    "    # initialize the output array with zeros, calculate the mean pos before and after the shift\n",
    "    gazeshift = np.zeros(len(xvec))   \n",
    "\n",
    "    # if user only needs to know the location where shift occured, return a boolean array\n",
    "    # where 1 =  shift occur, 0 = no shift\n",
    "    if shiftWhere:\n",
    "        try:\n",
    "            fillLoc = np.array([i[0] for i in msCluster]) \n",
    "            gazeshift[fillLoc] = 1\n",
    "        except IndexError:\n",
    "            pass\n",
    "        return gazeshift\n",
    "\n",
    "    try:\n",
    "        for i in msCluster:\n",
    "            #if user doesn't provide a baseline value, use relative baseline\n",
    "            if baseline == None:\n",
    "                befIndex = [i[0] - winlen - baselinePadding,i[0]- baselinePadding]\n",
    "            else:\n",
    "                befIndex = baseline\n",
    "            \n",
    "            #calculate gaze position before the shift occured \n",
    "            if type(baseline) != int:\n",
    "                try:\n",
    "                    posbef = np.nanmean(xvec.iloc[befIndex[0] : befIndex[1]])\n",
    "                except AttributeError: # this is to account for when using df.apply(raw = True),xvec is an array, not series\n",
    "                    posbef = np.nanmean(xvec[befIndex[0] : befIndex[1]])\n",
    "            else: #if user decide to use a numerical value as the baseline, use that\n",
    "                posbef = baseline\n",
    "\n",
    "            #calculate the gaze position afte the shift\n",
    "            try:\n",
    "                posaft = np.nanmean(xvec.iloc[i[-1] : i[-1] + winlen]) \n",
    "            except:    \n",
    "                posaft = np.nanmean(xvec[i[-1]: i[-1] + winlen]) \n",
    "\n",
    "            if abs(posaft - posbef) > shiftmin: \n",
    "                #toss away a ms if its less than a minimum visual degree \n",
    "                gazeshift[i[0]] = posaft - posbef \n",
    "            else:\n",
    "                pass\n",
    "    except IndexError: #i.e. if msCluster is empty, it gives error when trying to index i[0], in this case just return the 0 array\n",
    "        return gazeshift\n",
    "    return gazeshift"
   ]
  },
  {
   "cell_type": "code",
   "execution_count": 30,
   "metadata": {},
   "outputs": [],
   "source": [
    "#this is originally used to linearly interpolate \n",
    "#missing saccade data\n",
    "def linearInterpolate(x,y,method = 'linear'):\n",
    "    \"\"\"\n",
    "    methods needs to be one of the scipy.interpolate.interp1d methods\n",
    "    https://docs.scipy.org/doc/scipy/reference/generated/scipy.interpolate.interp1d.html\n",
    "    \"\"\"\n",
    "    #if the entire trial is nan, return nan\n",
    "    if np.isnan(np.array(y)).sum() == len(y):\n",
    "        interp = np.empty(len(y))\n",
    "        interp[:] = np.nan\n",
    "        return interp\n",
    "    #else,interpolate\n",
    "    try:\n",
    "        li = interp1d(x[~y.isnull()],\n",
    "                        y[~y.isnull()],\n",
    "                        fill_value=\"extrapolate\",kind = method)\n",
    "        interp = li(x)\n",
    "    except AttributeError: #handling np.array and pandas df conversion\n",
    "        li = interp1d(x[~np.isnan(y)],\n",
    "                        y[~np.isnan(y)],fill_value=\"extrapolate\",kind = method)\n",
    "        \n",
    "    interp = li(x)\n",
    "    return interp"
   ]
  },
  {
   "cell_type": "code",
   "execution_count": 31,
   "metadata": {},
   "outputs": [],
   "source": [
    "#plotting function\n",
    "def legend_without_duplicate_labels(ax,locVal = 'best'):\n",
    "    #https://stackoverflow.com/questions/19385639/duplicate-items-in-legend-in-matplotlib\n",
    "    handles, labels = ax.get_legend_handles_labels()\n",
    "    unique = [(h, l) for i, (h, l) in enumerate(zip(handles, labels)) if l not in labels[:i]]\n",
    "    ax.legend(*zip(*unique),loc = locVal)\n",
    "def deBlinkSample(rawPup, samplesize = 10): #plot n trial samples with the deblink process\n",
    "    fs(12,12)\n",
    "    select = np.random.randint(0,len(rawPup),size = samplesize)\n",
    "\n",
    "    #select some smaple \n",
    "    sample_raw = rawPup.iloc[select,1:]\n",
    "\n",
    "    #Clean once\n",
    "    cleanOnceSample = sample_raw.apply(lambda x: deBlink(rawPup = x.astype(float),timestamp = np.linspace(0,5,len(x)),\n",
    "                                                clusterLapse = 0.05, borderlenAft = 0.2,\n",
    "                                                borderlenBef= 0.05,madThreshold = 4),axis = 1,raw = True)\n",
    "\n",
    "    #second clean\n",
    "    onceSmoothSample = cleanOnceSample.rolling(11,min_periods=1,center  = True,axis =1).mean()\n",
    "    cleanTwiceSample = onceSmoothSample.apply(lambda x: deBlink(rawPup = x,timestamp = np.linspace(0,5,len(x)),\n",
    "                                            borderlenBef = 0.05,borderlenAft = 0.05,minGapt = 0.002,\n",
    "                                            clusterLapse = 0.05,madThreshold = 6),axis =1,raw = True)\n",
    "    fig,ax = plt.subplots(nrows = 3)\n",
    "\n",
    "    x = np.linspace(0,5,5000)\n",
    "    [ax[0].plot(x,sample_raw.iloc[i,:],alpha = 0.8) for i in range(len(select))]\n",
    "    [ax[1].plot(x,cleanOnceSample.iloc[i,:],alpha = 0.84,linewidth = 2) for i in range(len(select))]\n",
    "    [ax[2].plot(x,cleanTwiceSample.iloc[i,:],alpha = 0.8,linewidth = 2) for i in range(len(select))]\n",
    "\n",
    "    ax[1].set_ylim(ax[2].get_ylim())\n",
    "    ax[0].set_ylim(ax[2].get_ylim())\n",
    "\n",
    "    plt.show()\n",
    "def pupilPlot(normPup,blPup, \n",
    "              eventt = 3,\n",
    "              blt  = 0.1,\n",
    "              freq = 1000,\n",
    "              type = 'grand',\n",
    "              levels = ['cue_blk_validity','cued_item'],\n",
    "              pltRatio = [0.2,3], pltN = 3,\n",
    "              eventBoundary = [0,0.5,2.5],\n",
    "              eventName = ['retrocue','delay','probe'],\n",
    "              blHeight = None,\n",
    "              cList = [],\n",
    "              figH = 5.5, figW = 16,\n",
    "              tightPlot = True,\n",
    "              textSize = 12,\n",
    "              ):\n",
    "    \"\"\"\n",
    "    @ normPup = normalized pupil df with trial info columns in the end\n",
    "    @ blPup = the pupil df with the baseline\n",
    "    @ eventt = the time for the event of interest\n",
    "    @ blLen = the time for the baseline\n",
    "    @ freq = sampling frequency, defalut 1000\n",
    "    @ type = the type of plot, \n",
    "           - grand avg: ;\n",
    "           - subj avg: ;\n",
    "    @ levels = the group by levels, e.g. block validity and cued item\n",
    "    @ pltRatio = ratio for the plot for baseline and event\n",
    "    @ pltN = how many plots, default 3\n",
    "    @ eventBoundary = use to plot vertical lines on the plot to represent certain events\n",
    "    @ eventName = the text label for these events\n",
    "    @ blHeight = ylim for the baseline plots, if None, set ylim using max and min\n",
    "    @ cList = the color list used for plots; default color- the ones i carefully preseletced, very pretty\n",
    "    @ figH = figure height for each plot, default 5.5\n",
    "    @ figW = figure width, default 16\n",
    "    @ tightPlot = if true, set the plot layout to be tighter\n",
    "    @ textSize = the text label on the plot size\n",
    "    --------------\n",
    "    return NormMean: the groupby df\n",
    "    \"\"\"\n",
    "    eventLen = int(eventt*freq)\n",
    "    blLen = int(blt*freq)\n",
    "\n",
    "    if not type in ['grand','subj']:\n",
    "        raise 'Your plot should either be grand avg or subj avg'\n",
    "    if len(eventBoundary) != len(eventName):\n",
    "        raise 'your event name array should be the same size as your event boundary(time) array'\n",
    "    if type == 'grand':\n",
    "        normmean = normPup.groupby(levels).mean().iloc[:,:eventLen]\n",
    "        norm_sterr = normPup.groupby(levels).sem().iloc[:,:eventLen]\n",
    "        norm_upper = normmean.iloc[:,:] +norm_sterr.iloc[:,:] \n",
    "        norm_lower = normmean.iloc[:,:] -norm_sterr.iloc[:,:] \n",
    "        try:\n",
    "            normmeanBL = blPup.groupby(levels).mean().iloc[:,:blLen]\n",
    "            norm_sterrBL = blPup.groupby(levels).sem().iloc[:,:blLen]\n",
    "            norm_upperBL = normmeanBL.iloc[:,:] +norm_sterrBL.iloc[:,:] \n",
    "            norm_lowerBL = normmeanBL.iloc[:,:] -norm_sterrBL.iloc[:,:]\n",
    "        except:\n",
    "            normmeanBL = None\n",
    "            norm_sterrBL = None\n",
    "            norm_upperBL = None\n",
    "            norm_lowerBL = None\n",
    "        #the mean df will be returned\n",
    "        returnMean = normmean    \n",
    "        returnSd = norm_sterr\n",
    "    elif type == 'subj':\n",
    "        subj_levels = levels + ['subj']\n",
    "        normmean = normPup.groupby(subj_levels).mean().iloc[:,:eventLen].groupby(levels).mean()\n",
    "        norm_sterr = normPup.groupby(subj_levels).mean().iloc[:,:eventLen].groupby(levels).sem()\n",
    "        norm_upper = normmean.iloc[:,:] +norm_sterr.iloc[:,:] \n",
    "        norm_lower = normmean.iloc[:,:] -norm_sterr.iloc[:,:] \n",
    "        try:\n",
    "            normmeanBL = blPup.groupby(subj_levels).mean().iloc[:,:blLen].groupby(levels).mean()\n",
    "            norm_sterrBL = blPup.groupby(subj_levels).mean().iloc[:,:blLen].groupby(levels).sem()\n",
    "            norm_upperBL = normmeanBL.iloc[:,:] +norm_sterrBL.iloc[:,:] \n",
    "            norm_lowerBL = normmeanBL.iloc[:,:] -norm_sterrBL.iloc[:,:]\n",
    "        except:\n",
    "            normmeanBL = None\n",
    "            norm_sterrBL = None\n",
    "            norm_upperBL = None\n",
    "            norm_lowerBL = None\n",
    "            \n",
    "        #the subj df will be returned\n",
    "        returnMean = normPup.groupby(subj_levels).mean().iloc[:,:eventLen]\n",
    "        returnSd =  normPup.groupby(subj_levels).sem().iloc[:,:eventLen]\n",
    "\n",
    "    condN = normmean.shape[0]\n",
    "    #if color list is not right length, use sns generated color\n",
    "    if len(cList) < condN:\n",
    "        print('input color list is too short, plot default color ')\n",
    "        cList = sns.color_palette(\"flare\",n_colors = condN)\n",
    "     \n",
    "    #setting up plotting params\n",
    "    fs(figW,pltN*figH) #set figure size\n",
    "    fig,ax = plt.subplots(nrows= pltN, ncols=2, sharex=False, sharey = False,\n",
    "                          gridspec_kw={'width_ratios': pltRatio,})\n",
    "    x = np.linspace(0,eventt,norm_sterr.shape[1])\n",
    "    try:\n",
    "        xBL = np.linspace(0,blt,norm_sterrBL.shape[1])\n",
    "        if blHeight == None:\n",
    "            blHeight = [norm_lowerBL.min().min(), norm_upperBL.max().max()]\n",
    "    except:\n",
    "        xBl = 0\n",
    "        blHeight = 0\n",
    "\n",
    "    #plot mean plot for the baseline and for the trial\n",
    "    try:\n",
    "        [ax[i//2][0].fill_between(xBL,norm_upperBL.iloc[i,0:norm_sterrBL.shape[1]],norm_lowerBL.iloc[i,0:norm_sterrBL.shape[1]],\n",
    "                            color = cList[i],alpha = 0.2,)  for i in range(condN)]\n",
    "        [ax[i//2][0].plot(xBL,normmeanBL.iloc[i,0:norm_sterrBL.shape[1]],linewidth = 2.5,color = cList[i],) for i in range(condN) ]\n",
    "        [ax[i][0].set_ylim(blHeight) for i in range(pltN)]\n",
    "    except:\n",
    "        print('no baseline passed in')\n",
    "\n",
    "    [ax[i//2][1].fill_between(x,norm_upper.iloc[i,0:norm_sterr.shape[1]],norm_lower.iloc[i,0:norm_sterr.shape[1]],\n",
    "                        color = cList[i],alpha = 0.1, )  for i in range(condN)]\n",
    "    [ax[i//2][1].plot(x,normmean.iloc[i,0:norm_sterr.shape[1]],color = cList[i],linewidth = 2,) for i in range(condN) ]\n",
    "    \n",
    "    \n",
    "    #add vertical line and text\n",
    "    for ff in range(pltN):\n",
    "        ax[ff][1].vlines(eventBoundary,norm_lower.min().min(),\n",
    "                         norm_upper.max().max(),linestyles = 'dashed',colors= 'black')\n",
    "    for i,m in zip(eventBoundary,eventName):\n",
    "        ax[0][1].text(i,norm_upper.max().max(),m,c = 'black',size = textSize)\n",
    "    \n",
    "    #make the plots tighter\n",
    "    if tightPlot:\n",
    "        plt.subplots_adjust(hspace = 0.1)\n",
    "        plt.subplots_adjust(wspace = 0.06)\n",
    "        \n",
    "    #plt.xticks(fontsize= figW, )\n",
    "    plt.show()\n",
    "\n",
    "    return returnMean,returnSd"
   ]
  },
  {
   "cell_type": "code",
   "execution_count": 32,
   "metadata": {},
   "outputs": [],
   "source": [
    "# for behavioral response from psychopy\n",
    "\n",
    "def find_click_time(click,time):\n",
    "    try:\n",
    "        rt = time[np.nonzero(click)[0][0]]\n",
    "    except IndexError:\n",
    "        rt = np.nan\n",
    "    return rt"
   ]
  },
  {
   "attachments": {},
   "cell_type": "markdown",
   "metadata": {},
   "source": [
    "# load params"
   ]
  },
  {
   "cell_type": "code",
   "execution_count": 16,
   "metadata": {},
   "outputs": [],
   "source": [
    "pd.set_option('display.max_columns', 500)\n"
   ]
  },
  {
   "cell_type": "code",
   "execution_count": 17,
   "metadata": {},
   "outputs": [],
   "source": [
    "#read in the mega df\n",
    "local_username = 'yud070'\n",
    "pathEL = 'Z:/LiteBrite_YueyingDong/22AK01ELRaw_tracker/'\n",
    "pathpy = 'Z:/LiteBrite_YueyingDong/22AK01ELRaw_psychopy/'\n",
    "\n",
    "readIn = [f for f in os.listdir(pathEL)]"
   ]
  },
  {
   "cell_type": "code",
   "execution_count": 18,
   "metadata": {},
   "outputs": [],
   "source": [
    "relevantCols = ['RECORDING_SESSION_LABEL','AVERAGE_GAZE_X',\n",
    "       'AVERAGE_GAZE_Y','AVERAGE_PUPIL_SIZE','EYE_TRACKED','IP_LABEL','IP_START_TIME',\n",
    "      'LEFT_PUPIL_SIZE','RIGHT_PUPIL_SIZE','SAMPLE_MESSAGE','TIMESTAMP','TRIALID']\n",
    "pupCols = ['EYE_TRACKED','LEFT_PUPIL_SIZE','RIGHT_PUPIL_SIZE','AVERAGE_PUPIL_SIZE',\n",
    "           'IP_LABEL','TIMESTAMP','TRIALID']"
   ]
  },
  {
   "cell_type": "code",
   "execution_count": 19,
   "metadata": {},
   "outputs": [],
   "source": [
    "#plotting params // pending refractor\n",
    "ts = [1000,1250,1750,2250,4250,4750] #stim onset, rest, retrocue, delay, probecue\n",
    "\n",
    "stim_ts = 0.25 \n",
    "precue_ts = 0.5 + stim_ts\n",
    "retrocue_ts = 0.5 + precue_ts\n",
    "post_cue_ts = 2 + retrocue_ts\n",
    "probe_cue = 0.5 + post_cue_ts\n",
    "probe_ts = 3 + post_cue_ts\n",
    "iti = 0.5 + probe_ts\n",
    "\n",
    "epoch_array = np.array([0,stim_ts,precue_ts,retrocue_ts,post_cue_ts,probe_cue])\n",
    "epoch_name = ['stim','rest','retrocue','rest','probe_cue','probe']\n"
   ]
  },
  {
   "cell_type": "code",
   "execution_count": 20,
   "metadata": {},
   "outputs": [],
   "source": [
    "#some specified params\n",
    "leftEyeSubj = ['173','175']\n",
    "rightEyeSubj = ['183','185']\n",
    "\n",
    "#events\n",
    "events = ['fixateRest','stim','precueRest', 'retrocue',\n",
    "                            'postcueRest','probecue', 'probe', 'ITI','trialEnd']\n",
    "eventIndex = [0,1000,1250, 1750,2250,4250,4750,7750,8250]\n",
    "eventInfo = dict(zip(events,eventIndex))"
   ]
  },
  {
   "cell_type": "code",
   "execution_count": 21,
   "metadata": {},
   "outputs": [],
   "source": [
    "#take the first 5s in each recording, though the interest period is [0.5,4.75], but the padding\n",
    "#is included for better interpolating\n",
    "\n",
    "#params for reading in\n",
    "included = 5000\n",
    "\n",
    "#params for cleaning\n",
    "sdThreshold = 6\n",
    "pltAll = True\n",
    "interpCorrection = np.zeros(len(readIn))\n",
    "maxGapLen = 0.5\n",
    "minGapLen = 0.0\n",
    "freq = 1000\n",
    "gapMinN = minGapLen*freq"
   ]
  },
  {
   "cell_type": "code",
   "execution_count": 22,
   "metadata": {},
   "outputs": [],
   "source": [
    "#for plotting\n",
    "cList = ['#fda48c','#f23908','#93648f','#33202a','#66b3ba','#03838f',]\n",
    "cDict = {\"['high']\":'#f23908',\"['medium']\":'#03838f',\"['low']\":'#593247'} #{\"['high']\":'red',\"['medium']\":'green',\"['low']\":'blue'}\n"
   ]
  },
  {
   "attachments": {},
   "cell_type": "markdown",
   "metadata": {},
   "source": [
    "# readIn Files"
   ]
  },
  {
   "cell_type": "code",
   "execution_count": 106,
   "metadata": {},
   "outputs": [],
   "source": [
    "pathUnparsed = 'Z:/LiteBrite_YueyingDong/temp/unparsed/'"
   ]
  },
  {
   "cell_type": "code",
   "execution_count": 82,
   "metadata": {},
   "outputs": [],
   "source": [
    "#read behav\n",
    "psyFull = pd.read_csv('Z:/LiteBrite_YueyingDong/temp/cleanBehav.csv').iloc[:,1:]\n",
    "psyFull.set_index('identifier',inplace=True)\n"
   ]
  },
  {
   "cell_type": "code",
   "execution_count": 83,
   "metadata": {},
   "outputs": [],
   "source": [
    "psyFull['cue_posi'] = psyFull.cue_posi.replace({0:'right',1:'left'})"
   ]
  },
  {
   "attachments": {},
   "cell_type": "markdown",
   "metadata": {},
   "source": [
    "### readin mask"
   ]
  },
  {
   "cell_type": "code",
   "execution_count": 7,
   "metadata": {},
   "outputs": [],
   "source": [
    "maskClean = pd.read_csv('Z:/LiteBrite_YueyingDong/data4Paper/mask/cleanMask.csv').iloc[:,1:]"
   ]
  },
  {
   "attachments": {},
   "cell_type": "markdown",
   "metadata": {},
   "source": [
    "### readin events"
   ]
  },
  {
   "cell_type": "code",
   "execution_count": 105,
   "metadata": {},
   "outputs": [],
   "source": [
    "eventDf = pd.concat((pd.read_csv(f).iloc[:,1:] for f in glob.glob(pathUnparsed + 'event'+'/*.csv')), ignore_index=True)"
   ]
  },
  {
   "attachments": {},
   "cell_type": "markdown",
   "metadata": {},
   "source": [
    "### readin gaze"
   ]
  },
  {
   "cell_type": "code",
   "execution_count": 9,
   "metadata": {},
   "outputs": [],
   "source": [
    "saccFullTrial_x_raw = pd.concat((pd.read_csv(f).iloc[:,1:] for f in glob.glob(pathUnparsed + 'saccX'+'/*.csv')), ignore_index=True)\n",
    "saccFullTrial_y_raw = pd.concat((pd.read_csv(f).iloc[:,1:] for f in glob.glob(pathUnparsed + 'saccY'+'/*.csv')), ignore_index=True)"
   ]
  },
  {
   "cell_type": "markdown",
   "metadata": {},
   "source": [
    "### readin cleaned pupil (this is only needed for rejection method2)"
   ]
  },
  {
   "cell_type": "code",
   "execution_count": 67,
   "metadata": {},
   "outputs": [],
   "source": [
    "pupClean = pd.read_csv('Z:/LiteBrite_YueyingDong/data4Paper/cleanPup_parsedByEventMarker_normalized/cleanPupRetroNorm_byEvents.csv')"
   ]
  },
  {
   "attachments": {},
   "cell_type": "markdown",
   "metadata": {},
   "source": [
    "# processing"
   ]
  },
  {
   "attachments": {},
   "cell_type": "markdown",
   "metadata": {},
   "source": [
    "## mask"
   ]
  },
  {
   "cell_type": "code",
   "execution_count": 10,
   "metadata": {},
   "outputs": [],
   "source": [
    "#find trials that are in both saccfull and in mask\n",
    "sharedTrl = list(set(saccFullTrial_x_raw.TRIALID) & set(maskClean.TRIALID))\n",
    "gazeMask = maskClean[maskClean.TRIALID.isin(sharedTrl)].sort_values('TRIALID').reset_index(drop = True)\n",
    "\n",
    "saccTemp_x = saccFullTrial_x_raw[saccFullTrial_x_raw.TRIALID.isin(sharedTrl)].sort_values('TRIALID').reset_index(drop = True)\n",
    "saccTemp_y = saccFullTrial_y_raw[saccFullTrial_y_raw.TRIALID.isin(sharedTrl)].sort_values('TRIALID').reset_index(drop = True)"
   ]
  },
  {
   "cell_type": "code",
   "execution_count": 12,
   "metadata": {},
   "outputs": [],
   "source": [
    "#sanity check, the trial label should be the same, if not raise error\n",
    "if (sum(gazeMask.TRIALID != saccTemp_x.TRIALID) == 0) & (sum(gazeMask.TRIALID != saccTemp_y.TRIALID) == 0):\n",
    "    #put the mask on\n",
    "    saccTemp_x.iloc[:,1:] = saccTemp_x.iloc[:,1:].mask(gazeMask.iloc[:,1:].astype(bool),np.nan)\n",
    "    saccTemp_y.iloc[:,1:] = saccTemp_y.iloc[:,1:].mask(gazeMask.iloc[:,1:].astype(bool),np.nan)\n",
    "else:\n",
    "    raise('TRIALID mismatch between saccade raw and saccade mask')"
   ]
  },
  {
   "attachments": {},
   "cell_type": "markdown",
   "metadata": {},
   "source": [
    "# interpolate"
   ]
  },
  {
   "cell_type": "code",
   "execution_count": 13,
   "metadata": {},
   "outputs": [],
   "source": [
    "#aggregate the sacc temp x and y dfs\n",
    "saccTemp_x['axis'] = 'x'\n",
    "saccTemp_y['axis'] = 'y'\n",
    "saccTemp = pd.concat([saccTemp_x,saccTemp_y]).reset_index(drop = True)"
   ]
  },
  {
   "cell_type": "code",
   "execution_count": 33,
   "metadata": {},
   "outputs": [],
   "source": [
    "#interpolation of gaze data\n",
    "x = np.linspace(0,5,included)\n",
    "saccClean = saccTemp.iloc[:,1:included+1].apply(lambda y: linearInterpolate(x,y,method='nearest'),axis = 1,raw = True)\n",
    "saccClean.insert(0,'TRIALID',saccTemp.TRIALID)\n",
    "saccClean.insert(0,'axis',saccTemp.axis)"
   ]
  },
  {
   "attachments": {},
   "cell_type": "markdown",
   "metadata": {},
   "source": [
    "# re-unit"
   ]
  },
  {
   "cell_type": "code",
   "execution_count": 35,
   "metadata": {},
   "outputs": [],
   "source": [
    "saccClean.set_index(['axis'],inplace=True)"
   ]
  },
  {
   "cell_type": "code",
   "execution_count": 36,
   "metadata": {},
   "outputs": [],
   "source": [
    "saccClean.loc['x'].iloc[:,1:] = (saccClean.iloc[:,1:].loc['x'] -960)*100/960\n",
    "saccClean.loc['y'].iloc[:,1:] = (saccClean.iloc[:,1:].loc['y'] -540)*100/540"
   ]
  },
  {
   "attachments": {},
   "cell_type": "markdown",
   "metadata": {},
   "source": [
    "# reject"
   ]
  },
  {
   "cell_type": "code",
   "execution_count": 37,
   "metadata": {},
   "outputs": [],
   "source": [
    "saccBLWindow = [500,1000]"
   ]
  },
  {
   "cell_type": "code",
   "execution_count": 38,
   "metadata": {},
   "outputs": [],
   "source": [
    "#1.5 visual degree is roughly 52 pixel for both x and y\n",
    "#the euclean distance threshold is this\n",
    "deg1VADeviation = np.sqrt((57.24*100/960)**2+(57.24*100/540)**2)"
   ]
  },
  {
   "attachments": {},
   "cell_type": "markdown",
   "metadata": {},
   "source": [
    "## trial rejection"
   ]
  },
  {
   "attachments": {},
   "cell_type": "markdown",
   "metadata": {},
   "source": [
    "### missing + drifted fixation. This method is stricter, and result in less trial remain\n",
    "\n",
    "the results was included in the main text"
   ]
  },
  {
   "cell_type": "code",
   "execution_count": 84,
   "metadata": {},
   "outputs": [],
   "source": [
    "# get the eucledian distance from the center\n",
    "eucDist_Perc = pd.DataFrame(np.sqrt(saccClean.loc['x'].iloc[:,1:].values**2 + saccClean.loc['y'].iloc[:,1:].values**2))\n",
    "eucDist_Perc.insert(0,'identifier',saccClean.loc['x'].TRIALID.values)"
   ]
  },
  {
   "cell_type": "code",
   "execution_count": 85,
   "metadata": {},
   "outputs": [],
   "source": [
    "#if during the last 500ms of the fixtaion period, mean gaze position deviates from the threshold, reject the trial\n",
    "saccRejID = eucDist_Perc[(eucDist_Perc.iloc[:,saccBLWindow[0]:saccBLWindow[1]].mean(axis =1)>deg1VADeviation)].identifier\n",
    "#also if a trial has more than 12.5% data missing during the retrocue - probe epoch, then reject this\n",
    "saccRejID = set(saccRejID) | set(saccClean[saccClean.iloc[:,1750:4750].isnull().sum(axis = 1) > 3000*0.125].TRIALID),"
   ]
  },
  {
   "cell_type": "code",
   "execution_count": 86,
   "metadata": {},
   "outputs": [],
   "source": [
    "#reject trials with invalid fixation, too much missing, and \n",
    "saccTemp = saccClean[~saccClean.TRIALID.isin(list(saccRejID[0]))]\n",
    "#also only select the trials that are in psyfull (i.e. trials that has a respose)\n",
    "saccTemp = saccTemp[saccTemp.TRIALID.isin(psyFull.index.values)]"
   ]
  },
  {
   "attachments": {},
   "cell_type": "markdown",
   "metadata": {},
   "source": [
    "### missing + reject trials that were rejected by the pupil dataset\n",
    "\n",
    "the results was shown in supplementary"
   ]
  },
  {
   "cell_type": "code",
   "execution_count": 88,
   "metadata": {},
   "outputs": [],
   "source": [
    "saccRejID = saccClean[saccClean.iloc[:,1750:4750].isnull().sum(axis = 1) > 3000*0.125].TRIALID"
   ]
  },
  {
   "cell_type": "code",
   "execution_count": 89,
   "metadata": {},
   "outputs": [],
   "source": [
    "#reject trials with invalid fixation, too much missing, and \n",
    "saccTemp_method2 = saccClean[saccClean.TRIALID.isin(list(set(pupClean.identifier)  - set(saccRejID)))]\n",
    "#also only select the trials that are in psyfull (i.e. trials that has a respose)\n",
    "saccTemp_method2 = saccTemp_method2[saccTemp_method2.TRIALID.isin(psyFull.index.values)]"
   ]
  },
  {
   "attachments": {},
   "cell_type": "markdown",
   "metadata": {},
   "source": [
    "## subj rejection"
   ]
  },
  {
   "cell_type": "code",
   "execution_count": null,
   "metadata": {},
   "outputs": [],
   "source": [
    "psyFull.reset_index(drop = False,inplace=True)"
   ]
  },
  {
   "cell_type": "markdown",
   "metadata": {},
   "source": [
    "### dataset1"
   ]
  },
  {
   "cell_type": "code",
   "execution_count": 101,
   "metadata": {},
   "outputs": [],
   "source": [
    "#remove a subj if they have more than 30% trls missing\n",
    "saccTemp['subj'] = [ast.literal_eval(i)[0] for i in saccTemp.TRIALID]\n",
    "trlCnt = saccTemp.subj.value_counts().reset_index().rename(columns = {'index':'subj','subj':'trlLeft'})\n",
    "trlCnt['trlLeft'] = trlCnt['trlLeft']/2\n",
    "saccRejSubj = set(trlCnt[trlCnt.trlLeft < 0.7*300].subj.values)\n",
    "saccRejSubj.remove(\"154\") #154 is a special case because their exp terminated prematurely\n",
    "\n",
    "#remove these subjs (7 people)\n",
    "saccClean_rej = saccTemp[~saccTemp.subj.isin(saccRejSubj)]\n",
    "\n",
    "saccClean_rej.reset_index(drop = False,inplace=True)\n",
    "\n",
    "#merge the trl label columns from the psychopy file\n",
    "saccClean_rej = saccClean_rej.merge(psyFull[['identifier','cue_posi','blk_validity']],how = 'left',\n",
    "                    left_on = 'TRIALID', right_on = 'identifier').drop('identifier',axis = 1)\n",
    "#rearrange the column\n",
    "saccClean_rej = saccClean_rej.reindex(columns=np.r_[np.arange(0,5000),['axis','TRIALID','subj','cue_posi','blk_validity']])"
   ]
  },
  {
   "cell_type": "markdown",
   "metadata": {},
   "source": [
    "### dataset2"
   ]
  },
  {
   "cell_type": "code",
   "execution_count": 102,
   "metadata": {},
   "outputs": [],
   "source": [
    "#remove a subj if they have more than 30% trls missing\n",
    "saccTemp_method2['subj'] = [ast.literal_eval(i)[0] for i in saccTemp_method2.TRIALID]\n",
    "trlCnt = saccTemp_method2.subj.value_counts().reset_index().rename(columns = {'index':'subj','subj':'trlLeft'})\n",
    "trlCnt['trlLeft'] = trlCnt['trlLeft']/2\n",
    "saccRejSubj = set(trlCnt[trlCnt.trlLeft < 0.7*300].subj.values)\n",
    "\n",
    "#remove these subjs (0 people)\n",
    "saccClean_rej_method2 = saccTemp_method2[~saccTemp_method2.subj.isin(saccRejSubj)]\n",
    "saccClean_rej_method2.reset_index(drop = False,inplace=True)\n",
    "\n",
    "#merge the trl label columns from the psychopy file\n",
    "saccClean_rej_method2 = saccClean_rej_method2.merge(psyFull[['identifier','cue_posi','blk_validity']],how = 'left',\n",
    "                    left_on = 'TRIALID', right_on = 'identifier').drop('identifier',axis = 1)\n",
    "#rearrange the column\n",
    "saccClean_rej_method2 = saccClean_rej_method2.reindex(columns=np.r_[np.arange(0,5000),['axis','TRIALID','subj','cue_posi','blk_validity']])"
   ]
  },
  {
   "attachments": {},
   "cell_type": "markdown",
   "metadata": {},
   "source": [
    "# epoching for gaze"
   ]
  },
  {
   "cell_type": "markdown",
   "metadata": {},
   "source": [
    "### dataset1"
   ]
  },
  {
   "cell_type": "code",
   "execution_count": 214,
   "metadata": {},
   "outputs": [
    {
     "data": {
      "text/plain": [
       "0"
      ]
     },
     "execution_count": 214,
     "metadata": {},
     "output_type": "execute_result"
    }
   ],
   "source": [
    "#reset index for the files\n",
    "eventDfSacc = eventDf[eventDf.TRIALID.isin(saccClean_rej.TRIALID)].reset_index(drop = True)\n",
    "#sort to ensure the trial id match\n",
    "saccClean_rej = saccClean_rej.sort_values(['TRIALID','axis']).reset_index(drop = True)\n",
    "eventDfSacc = eventDfSacc.sort_values('TRIALID').reset_index(drop = True)\n",
    "\n",
    "#sanity check, if this is not 0, stop running the following\n",
    "sum(saccClean_rej.iloc[::2,:].TRIALID.values != eventDfSacc.TRIALID.values )"
   ]
  },
  {
   "cell_type": "code",
   "execution_count": 215,
   "metadata": {},
   "outputs": [],
   "source": [
    "#event index parsing\n",
    "tsRetroBL = [np.arange(i- 500,i+ 100) for i in eventDfSacc.retrocue]\n",
    "tsRetro = [np.arange(i,i + 3000) for i in eventDfSacc.retrocue]"
   ]
  },
  {
   "cell_type": "code",
   "execution_count": 216,
   "metadata": {},
   "outputs": [],
   "source": [
    "#parse for x and y\n",
    "saccClean_rejX = saccClean_rej[saccClean_rej.axis  == 'x'].reset_index(drop = True)\n",
    "saccClean_rejY = saccClean_rej[saccClean_rej.axis  == 'y'].reset_index(drop = True)\n",
    "\n",
    "#parse for retrocue\n",
    "saccRetroBLX = pd.DataFrame(data=[saccClean_rejX.iloc[x:x+1,y].values[0] for x,y in enumerate(tsRetroBL)])\n",
    "saccRetroX = pd.DataFrame(data=[saccClean_rejX.iloc[x:x+1,y].values[0] for x,y in enumerate(tsRetro)])\n",
    "\n",
    "#do it for the x,put back labels\n",
    "saccRetroBLX = pd.concat([saccRetroBLX,saccClean_rejX.iloc[:,-5:]],axis = 1)\n",
    "saccRetroX = pd.concat([saccRetroX,saccClean_rejX.iloc[:,-5:]],axis = 1)\n",
    "\n",
    "#parse for retrocue\n",
    "saccRetroBLY = pd.DataFrame(data=[saccClean_rejY.iloc[x:x+1,y].values[0] for x,y in enumerate(tsRetroBL)])\n",
    "saccRetroY = pd.DataFrame(data=[saccClean_rejY.iloc[x:x+1,y].values[0] for x,y in enumerate(tsRetro)])\n",
    "\n",
    "#do it for the y,put back labels\n",
    "saccRetroBLY = pd.concat([saccRetroBLY,saccClean_rejY.iloc[:,-5:]],axis = 1)\n",
    "saccRetroY = pd.concat([saccRetroY,saccClean_rejY.iloc[:,-5:]],axis = 1)\n",
    "\n",
    "#concat x and y together\n",
    "saccRetroBL = pd.concat([saccRetroBLX,saccRetroBLY]).reset_index(drop = True)\n",
    "saccRetro = pd.concat([saccRetroX,saccRetroY]).reset_index(drop = True)"
   ]
  },
  {
   "cell_type": "code",
   "execution_count": 217,
   "metadata": {},
   "outputs": [
    {
     "data": {
      "text/plain": [
       "(22484, 3005)"
      ]
     },
     "execution_count": 217,
     "metadata": {},
     "output_type": "execute_result"
    }
   ],
   "source": [
    "saccRetro.shape"
   ]
  },
  {
   "cell_type": "markdown",
   "metadata": {},
   "source": [
    "### dataset2"
   ]
  },
  {
   "cell_type": "code",
   "execution_count": 218,
   "metadata": {},
   "outputs": [
    {
     "data": {
      "text/plain": [
       "0"
      ]
     },
     "execution_count": 218,
     "metadata": {},
     "output_type": "execute_result"
    }
   ],
   "source": [
    "#reset index for the files\n",
    "eventDfSacc = eventDf[eventDf.TRIALID.isin(saccClean_rej_method2.TRIALID)].reset_index(drop = True)\n",
    "#sort to ensure the trial id match\n",
    "saccClean_rej_method2 = saccClean_rej_method2.sort_values(['TRIALID','axis']).reset_index(drop = True)\n",
    "eventDfSacc = eventDfSacc.sort_values('TRIALID').reset_index(drop = True)\n",
    "\n",
    "#sanity check, if this is not 0, stop running the following\n",
    "sum(saccClean_rej_method2.iloc[::2,:].TRIALID.values != eventDfSacc.TRIALID.values )"
   ]
  },
  {
   "cell_type": "code",
   "execution_count": 219,
   "metadata": {},
   "outputs": [],
   "source": [
    "#event index parsing\n",
    "tsRetroBL = [np.arange(i- 500,i+ 100) for i in eventDfSacc.retrocue]\n",
    "tsRetro_method2 = [np.arange(i,i + 3000) for i in eventDfSacc.retrocue]"
   ]
  },
  {
   "cell_type": "code",
   "execution_count": 220,
   "metadata": {},
   "outputs": [],
   "source": [
    "#parse for x and y\n",
    "saccClean_rej_method2X = saccClean_rej_method2[saccClean_rej_method2.axis  == 'x'].reset_index(drop = True)\n",
    "saccClean_rej_method2Y = saccClean_rej_method2[saccClean_rej_method2.axis  == 'y'].reset_index(drop = True)\n",
    "\n",
    "#parse for retrocue\n",
    "saccRetroBLX_method2X = pd.DataFrame(data=[saccClean_rej_method2X.iloc[x:x+1,y].values[0] for x,y in enumerate(tsRetroBL)])\n",
    "saccRetroX_method2X = pd.DataFrame(data=[saccClean_rej_method2X.iloc[x:x+1,y].values[0] for x,y in enumerate(tsRetro_method2)])\n",
    "\n",
    "#do it for the x,put back labels\n",
    "saccRetroBLX_method2X = pd.concat([saccRetroBLX_method2X,saccClean_rej_method2X.iloc[:,-5:]],axis = 1)\n",
    "saccRetroX_method2X = pd.concat([saccRetroX_method2X,saccClean_rej_method2X.iloc[:,-5:]],axis = 1)\n",
    "\n",
    "#parse for retrocue\n",
    "saccRetroBLY_method2X = pd.DataFrame(data=[saccClean_rej_method2Y.iloc[x:x+1,y].values[0] for x,y in enumerate(tsRetroBL)])\n",
    "saccRetroY_method2X = pd.DataFrame(data=[saccClean_rej_method2Y.iloc[x:x+1,y].values[0] for x,y in enumerate(tsRetro_method2)])\n",
    "\n",
    "#do it for the y,put back labels\n",
    "saccRetroBLY_method2X = pd.concat([saccRetroBLY_method2X,saccClean_rej_method2Y.iloc[:,-5:]],axis = 1)\n",
    "saccRetroY_method2X = pd.concat([saccRetroY_method2X,saccClean_rej_method2Y.iloc[:,-5:]],axis = 1)\n",
    "\n",
    "#concat x and y together\n",
    "saccRetroBL_method2 = pd.concat([saccRetroBLX_method2X,saccRetroBLY_method2X]).reset_index(drop = True)\n",
    "saccRetro_method2 = pd.concat([saccRetroX_method2X,saccRetroY_method2X]).reset_index(drop = True)"
   ]
  },
  {
   "cell_type": "code",
   "execution_count": 221,
   "metadata": {},
   "outputs": [
    {
     "data": {
      "text/plain": [
       "(27688, 3005)"
      ]
     },
     "execution_count": 221,
     "metadata": {},
     "output_type": "execute_result"
    }
   ],
   "source": [
    "saccRetro_method2.shape"
   ]
  },
  {
   "cell_type": "markdown",
   "metadata": {},
   "source": [
    "# find gaze shift"
   ]
  },
  {
   "cell_type": "markdown",
   "metadata": {},
   "source": [
    "## smooth the gaze arrays"
   ]
  },
  {
   "cell_type": "code",
   "execution_count": 120,
   "metadata": {},
   "outputs": [],
   "source": [
    "normSacc = saccClean_rej.set_index('axis')"
   ]
  },
  {
   "cell_type": "code",
   "execution_count": 121,
   "metadata": {},
   "outputs": [],
   "source": [
    "smoothSaccX = normSacc.loc['x'].iloc[:,:-3].set_index('TRIALID').apply(lambda x: smooth(x,window_len=11),axis =1,raw = True)\n",
    "smoothSaccY = normSacc.loc['y'].iloc[:,:-3].set_index('TRIALID').apply(lambda x: smooth(x,window_len=21),axis =1,raw = True)#i used a higher smooth value for y because this channel is more noisy\n"
   ]
  },
  {
   "cell_type": "markdown",
   "metadata": {},
   "source": [
    "# calculate shift"
   ]
  },
  {
   "cell_type": "markdown",
   "metadata": {},
   "source": [
    "## dataset1"
   ]
  },
  {
   "cell_type": "code",
   "execution_count": 122,
   "metadata": {},
   "outputs": [],
   "source": [
    "#horizontal channel\n",
    "shiftDf_relX = np.zeros(shape = smoothSaccX.shape)#relative shift direction in regard to each saccadic movement\n",
    "shiftDf_ctrX = np.zeros(shape = smoothSaccX.shape)#shift in regard to the center of the screen. "
   ]
  },
  {
   "cell_type": "code",
   "execution_count": 123,
   "metadata": {},
   "outputs": [],
   "source": [
    "#vertical channel\n",
    "shiftDf_relY = np.zeros(shape = smoothSaccY.shape)#relative shift direction in regard to each saccadic movement\n",
    "shiftDf_ctrY = np.zeros(shape = smoothSaccY.shape)#shift in regard to the center of the screen. "
   ]
  },
  {
   "cell_type": "code",
   "execution_count": 126,
   "metadata": {},
   "outputs": [],
   "source": [
    "# ca;culate the shift, using 2 different methods;\n",
    "for i,(x,y) in enumerate(zip(smoothSaccX.values,smoothSaccY.values)):\n",
    "    shiftDf_relX[i] = findGazeShift2d(x,y,\n",
    "                           shiftmin = 0.2,threshold = 6)\n",
    "    shiftDf_ctrX[i] = findGazeShift2d(x,y,baseline = 0,\n",
    "                           shiftmin = 0.2,threshold = 6)\n",
    "    \n",
    "\n",
    "    shiftDf_relY[i] = findGazeShift2d(y,x,\n",
    "                           shiftmin = 0.2,threshold = 6)\n",
    "    shiftDf_ctrY[i] = findGazeShift2d(y,x,baseline = 0,\n",
    "                           shiftmin = 0.2,threshold = 6)"
   ]
  },
  {
   "cell_type": "code",
   "execution_count": 138,
   "metadata": {},
   "outputs": [],
   "source": [
    "#cast to dataframe, set index to trial identifier\n",
    "shiftDf_relX = pd.DataFrame(shiftDf_relX,index = smoothSaccX.index)\n",
    "shiftDf_ctrX = pd.DataFrame(shiftDf_ctrX,index = smoothSaccX.index)\n",
    "\n",
    "shiftDf_relY = pd.DataFrame(shiftDf_relY,index = smoothSaccY.index)\n",
    "shiftDf_ctrY = pd.DataFrame(shiftDf_ctrY,index = smoothSaccY.index)"
   ]
  },
  {
   "cell_type": "code",
   "execution_count": null,
   "metadata": {},
   "outputs": [],
   "source": [
    "#get shift index\n",
    "tx = np.zeros(shape = smoothSaccX.shape)\n",
    "ty = np.zeros(shape = smoothSaccY.shape)\n",
    "\n",
    "for i,(x,y) in enumerate(zip(smoothSaccX.values,smoothSaccY.values)):\n",
    "    tx[i] = findGazeShift2d(x,y,shiftWhere = True,\n",
    "                           shiftmin = 0.2,threshold = 6)\n",
    "    ty[i] = findGazeShift2d(y,x,shiftWhere = True,\n",
    "                           shiftmin = 0.2,threshold = 6)\n",
    "    \n",
    "tx =  pd.DataFrame(tx,index = smoothSaccX.index)\n",
    "ty =  pd.DataFrame(ty,index = smoothSaccX.index)"
   ]
  },
  {
   "cell_type": "code",
   "execution_count": null,
   "metadata": {},
   "outputs": [],
   "source": [
    "#sanity check on whether x and y gives the same results, if not zero, then there's a problem\n",
    "(tx!=ty).sum().sum()\n"
   ]
  },
  {
   "cell_type": "markdown",
   "metadata": {},
   "source": [
    "## dataset2"
   ]
  },
  {
   "cell_type": "code",
   "execution_count": 128,
   "metadata": {},
   "outputs": [],
   "source": [
    "normSacc_method2 = saccClean_rej_method2.set_index('axis')"
   ]
  },
  {
   "cell_type": "code",
   "execution_count": 129,
   "metadata": {},
   "outputs": [],
   "source": [
    "smoothSaccX_method2 = normSacc_method2.loc['x'].iloc[:,:-3].set_index('TRIALID').apply(lambda x: smooth(x,window_len=11),axis =1,raw = True)\n",
    "smoothSaccY_method2 = normSacc_method2.loc['y'].iloc[:,:-3].set_index('TRIALID').apply(lambda x: smooth(x,window_len=21),axis =1,raw = True)#i used a higher smooth value for y because this channel is more noisy\n"
   ]
  },
  {
   "cell_type": "code",
   "execution_count": 130,
   "metadata": {},
   "outputs": [],
   "source": [
    "#horizontal channel\n",
    "shiftDf_relX_method2 = np.zeros(shape = smoothSaccX_method2.shape)#relative shift direction in regard to each saccadic movement\n",
    "shiftDf_ctrX_method2 = np.zeros(shape = smoothSaccX_method2.shape)#shift in regard to the center of the screen. "
   ]
  },
  {
   "cell_type": "code",
   "execution_count": 131,
   "metadata": {},
   "outputs": [],
   "source": [
    "#vertical channel\n",
    "shiftDf_relY_method2 = np.zeros(shape = smoothSaccY_method2.shape)#relative shift direction in regard to each saccadic movement\n",
    "shiftDf_ctrY_method2 = np.zeros(shape = smoothSaccY_method2.shape)#shift in regard to the center of the screen. "
   ]
  },
  {
   "cell_type": "code",
   "execution_count": 132,
   "metadata": {},
   "outputs": [],
   "source": [
    "# calculate the shift, using 2 different methods;\n",
    "for i,(x,y) in enumerate(zip(smoothSaccX_method2.values,smoothSaccY_method2.values)):\n",
    "    shiftDf_relX_method2[i] = findGazeShift2d(x,y,\n",
    "                           shiftmin = 0.2,threshold = 6)\n",
    "    shiftDf_ctrX_method2[i] = findGazeShift2d(x,y,baseline = 0,\n",
    "                           shiftmin = 0.2,threshold = 6)\n",
    "    \n",
    "\n",
    "    shiftDf_relY_method2[i] = findGazeShift2d(y,x,\n",
    "                           shiftmin = 0.2,threshold = 6)\n",
    "    shiftDf_ctrY_method2[i] = findGazeShift2d(y,x,baseline = 0,\n",
    "                           shiftmin = 0.2,threshold = 6)"
   ]
  },
  {
   "cell_type": "code",
   "execution_count": 168,
   "metadata": {},
   "outputs": [],
   "source": [
    "#cast to dataframe, set index to trial identifier\n",
    "shiftDf_relX_method2 = pd.DataFrame(shiftDf_relX_method2,index = smoothSaccX_method2.index)\n",
    "shiftDf_ctrX_method2 = pd.DataFrame(shiftDf_ctrX_method2,index = smoothSaccX_method2.index)\n",
    "\n",
    "shiftDf_relY_method2 = pd.DataFrame(shiftDf_relY_method2,index = smoothSaccY_method2.index)\n",
    "shiftDf_ctrY_method2 = pd.DataFrame(shiftDf_ctrY_method2,index = smoothSaccY_method2.index)"
   ]
  },
  {
   "cell_type": "markdown",
   "metadata": {},
   "source": [
    "# split into toward/away"
   ]
  },
  {
   "cell_type": "markdown",
   "metadata": {},
   "source": [
    "## dataset1"
   ]
  },
  {
   "cell_type": "code",
   "execution_count": 156,
   "metadata": {},
   "outputs": [],
   "source": [
    "shiftDf = shiftDf_relX.merge(psyFull[['cue_posi','cue_blk_validity','identifier']],left_index = True,right_on = 'identifier', how = 'inner')\n",
    "shiftDf.set_index('identifier',inplace=True)"
   ]
  },
  {
   "cell_type": "code",
   "execution_count": 158,
   "metadata": {},
   "outputs": [],
   "source": [
    "#tag the towardness using cue condition\n",
    "#leftward shift <0, rightward shift >0; \n",
    "leftToward_relX= pd.DataFrame(np.where(shiftDf[shiftDf.cue_posi == 'left'].iloc[:,:5000].values < 0, 1, 0),index = shiftDf[shiftDf.cue_posi == 'left'].index)\n",
    "leftToward_relX['blk_validity'] = shiftDf[shiftDf.cue_posi == 'left']['cue_blk_validity']\n",
    "rightToward_relX= pd.DataFrame(np.where(shiftDf[shiftDf.cue_posi == 'right'].iloc[:,:5000].values > 0, 1, 0),index = shiftDf[shiftDf.cue_posi == 'right'].index)\n",
    "rightToward_relX['blk_validity'] = shiftDf[shiftDf.cue_posi == 'right']['cue_blk_validity']\n",
    "\n",
    "leftToward_relX['cue_posi'] = 'left'\n",
    "rightToward_relX['cue_posi'] = 'right'\n",
    "\n",
    "\n",
    "#tag the awayness using cue condition\n",
    "leftAway_relX= pd.DataFrame(np.where(shiftDf[shiftDf.cue_posi == 'left'].iloc[:,:5000].values > 0, 1, 0),index = shiftDf[shiftDf.cue_posi == 'left'].index)\n",
    "leftAway_relX['blk_validity'] = shiftDf[shiftDf.cue_posi == 'left']['cue_blk_validity']\n",
    "rightAway_relX= pd.DataFrame(np.where(shiftDf[shiftDf.cue_posi == 'right'].iloc[:,:5000].values < 0, 1, 0),index = shiftDf[shiftDf.cue_posi == 'right'].index)\n",
    "rightAway_relX['blk_validity'] = shiftDf[shiftDf.cue_posi == 'right']['cue_blk_validity']\n",
    "\n",
    "leftAway_relX['cue_posi'] = 'left'\n",
    "rightAway_relX['cue_posi'] = 'right'"
   ]
  },
  {
   "cell_type": "code",
   "execution_count": 159,
   "metadata": {},
   "outputs": [],
   "source": [
    "toward = pd.concat([leftToward_relX,rightToward_relX])\n",
    "toward.sort_index(inplace=True)\n",
    "\n",
    "away = pd.concat([leftAway_relX,rightAway_relX])\n",
    "away.sort_index(inplace=True)"
   ]
  },
  {
   "cell_type": "markdown",
   "metadata": {},
   "source": [
    "## dataset2"
   ]
  },
  {
   "cell_type": "code",
   "execution_count": 170,
   "metadata": {},
   "outputs": [],
   "source": [
    "shiftDf_method2 = shiftDf_relX_method2.merge(psyFull[['cue_posi','cue_blk_validity','identifier']],left_index = True,right_on = 'identifier', how = 'inner')\n",
    "shiftDf_method2.set_index('identifier',inplace=True)"
   ]
  },
  {
   "cell_type": "code",
   "execution_count": 171,
   "metadata": {},
   "outputs": [],
   "source": [
    "#tag the towardness using cue condition\n",
    "#leftward shift <0, rightward shift >0; \n",
    "leftToward_relX_method2= pd.DataFrame(np.where(shiftDf_method2[shiftDf_method2.cue_posi == 'left'].iloc[:,:5000].values < 0, 1, 0),index = shiftDf_method2[shiftDf_method2.cue_posi == 'left'].index)\n",
    "leftToward_relX_method2['blk_validity'] = shiftDf_method2[shiftDf_method2.cue_posi == 'left']['cue_blk_validity']\n",
    "rightToward_relX_method2= pd.DataFrame(np.where(shiftDf_method2[shiftDf_method2.cue_posi == 'right'].iloc[:,:5000].values > 0, 1, 0),index = shiftDf_method2[shiftDf_method2.cue_posi == 'right'].index)\n",
    "rightToward_relX_method2['blk_validity'] = shiftDf_method2[shiftDf_method2.cue_posi == 'right']['cue_blk_validity']\n",
    "\n",
    "leftToward_relX_method2['cue_posi'] = 'left'\n",
    "rightToward_relX_method2['cue_posi'] = 'right'\n",
    "\n",
    "\n",
    "#tag the awayness using cue condition\n",
    "leftAway_relX_method2= pd.DataFrame(np.where(shiftDf_method2[shiftDf_method2.cue_posi == 'left'].iloc[:,:5000].values > 0, 1, 0),index = shiftDf_method2[shiftDf_method2.cue_posi == 'left'].index)\n",
    "leftAway_relX_method2['blk_validity'] = shiftDf_method2[shiftDf_method2.cue_posi == 'left']['cue_blk_validity']\n",
    "rightAway_relX_method2= pd.DataFrame(np.where(shiftDf_method2[shiftDf_method2.cue_posi == 'right'].iloc[:,:5000].values < 0, 1, 0),index = shiftDf_method2[shiftDf_method2.cue_posi == 'right'].index)\n",
    "rightAway_relX_method2['blk_validity'] = shiftDf_method2[shiftDf_method2.cue_posi == 'right']['cue_blk_validity']\n",
    "\n",
    "leftAway_relX_method2['cue_posi'] = 'left'\n",
    "rightAway_relX_method2['cue_posi'] = 'right'"
   ]
  },
  {
   "cell_type": "code",
   "execution_count": 173,
   "metadata": {},
   "outputs": [],
   "source": [
    "toward_method2 = pd.concat([leftToward_relX_method2,rightToward_relX_method2])\n",
    "toward_method2.sort_index(inplace=True)\n",
    "\n",
    "away_method2 = pd.concat([leftAway_relX_method2,rightAway_relX_method2])\n",
    "away_method2.sort_index(inplace=True)"
   ]
  },
  {
   "cell_type": "markdown",
   "metadata": {},
   "source": [
    "# get frequency"
   ]
  },
  {
   "cell_type": "markdown",
   "metadata": {},
   "source": [
    "## dataset 1"
   ]
  },
  {
   "cell_type": "code",
   "execution_count": 176,
   "metadata": {},
   "outputs": [],
   "source": [
    "#get frequency\n",
    "winsize = 100\n",
    "towardFreq = toward.iloc[:,:-2].rolling(window = winsize,min_periods = winsize,axis = 1).sum()*freq/winsize\n",
    "awayFreq = away.iloc[:,:-2].rolling(window = winsize,min_periods = winsize,axis = 1).sum()*freq/winsize\n"
   ]
  },
  {
   "cell_type": "code",
   "execution_count": 177,
   "metadata": {},
   "outputs": [],
   "source": [
    "#add back tag\n",
    "towardFreq = towardFreq.merge(psyFull[['cue_posi','cue_blk_validity','identifier']],left_index=True,right_on = 'identifier', how = 'inner')\n",
    "awayFreq = awayFreq.merge(psyFull[['cue_posi','cue_blk_validity','identifier']],left_index=True,right_on = 'identifier', how = 'inner')"
   ]
  },
  {
   "cell_type": "markdown",
   "metadata": {},
   "source": [
    "## dataset 2"
   ]
  },
  {
   "cell_type": "code",
   "execution_count": 178,
   "metadata": {},
   "outputs": [],
   "source": [
    "#get frequency\n",
    "winsize = 100\n",
    "towardFreq_method2 = toward_method2.iloc[:,:-2].rolling(window = winsize,min_periods = winsize,axis = 1).sum()*freq/winsize\n",
    "awayFreq_method2 = away_method2.iloc[:,:-2].rolling(window = winsize,min_periods = winsize,axis = 1).sum()*freq/winsize\n"
   ]
  },
  {
   "cell_type": "code",
   "execution_count": 179,
   "metadata": {},
   "outputs": [],
   "source": [
    "#add back tag\n",
    "towardFreq_method2 = towardFreq_method2.merge(psyFull[['cue_posi','cue_blk_validity','identifier']],left_index=True,right_on = 'identifier', how = 'inner')\n",
    "awayFreq_method2 = awayFreq_method2.merge(psyFull[['cue_posi','cue_blk_validity','identifier']],left_index=True,right_on = 'identifier', how = 'inner')"
   ]
  },
  {
   "cell_type": "markdown",
   "metadata": {},
   "source": [
    "# epoching for saccade"
   ]
  },
  {
   "cell_type": "markdown",
   "metadata": {},
   "source": [
    "## dataset 1"
   ]
  },
  {
   "cell_type": "code",
   "execution_count": 180,
   "metadata": {},
   "outputs": [],
   "source": [
    "towardFreq.reset_index(drop = True,inplace=True)\n",
    "awayFreq.reset_index(drop = True,inplace=True)"
   ]
  },
  {
   "cell_type": "code",
   "execution_count": 195,
   "metadata": {},
   "outputs": [],
   "source": [
    "#parse for retrocue - shift counts using the relative shift distance\n",
    "msRetroX = pd.DataFrame(data=[shiftDf.iloc[x:x+1,y].values[0] for x,y in enumerate(tsRetro)])\n",
    "msRetroX['identifier'] = shiftDf.index.values\n",
    "msRetroX = pd.concat([msRetroX,shiftDf.iloc[:,-2:].reset_index(drop=True),],axis = 1)\n",
    "\n",
    "#parse for retrocue - shift counts using relative shift distance, further breaking down into toward/away\n",
    "msRetroX_toward = pd.DataFrame(data=[toward.iloc[x:x+1,y].values[0] for x,y in enumerate(tsRetro)])\n",
    "msRetroX_toward['identifier'] = toward.index.values\n",
    "msRetroX_toward = pd.concat([msRetroX_toward,toward.iloc[:,-2:].reset_index(drop=True)],axis = 1)\n",
    "\n",
    "msRetroX_away = pd.DataFrame(data=[away.iloc[x:x+1,y].values[0] for x,y in enumerate(tsRetro)])\n",
    "msRetroX_away['identifier'] = away.index.values\n",
    "msRetroX_away = pd.concat([msRetroX_away,away.iloc[:,-2:].reset_index(drop=True)],axis = 1)"
   ]
  },
  {
   "cell_type": "code",
   "execution_count": 196,
   "metadata": {},
   "outputs": [],
   "source": [
    "#parse for retrocue - shift counts using the shift distance to screen center\n",
    "msRetroX_ctr = pd.DataFrame(data=[shiftDf_ctrX.iloc[x:x+1,y].values[0] for x,y in enumerate(tsRetro)])\n",
    "msRetroX_ctr['identifier'] = shiftDf_ctrX.index.values\n",
    "msRetroX_ctr = msRetroX_ctr.merge(psyFull[['identifier','cue_posi','cue_blk_validity']],on='identifier',how = 'left')"
   ]
  },
  {
   "cell_type": "code",
   "execution_count": 197,
   "metadata": {},
   "outputs": [],
   "source": [
    "#parse for retrocue period using the event dataframe - frequency\n",
    "towardRetroX = pd.DataFrame(data=[towardFreq.iloc[x:x+1,y].values[0] for x,y in enumerate(tsRetro)])\n",
    "towardRetroX = pd.concat([towardRetroX,towardFreq.iloc[:,-3:]],axis = 1)\n",
    "\n",
    "awayRetroX = pd.DataFrame(data=[awayFreq.iloc[x:x+1,y].values[0] for x,y in enumerate(tsRetro)])\n",
    "awayRetroX = pd.concat([awayRetroX,awayFreq.iloc[:,-3:]],axis = 1)"
   ]
  },
  {
   "cell_type": "markdown",
   "metadata": {},
   "source": [
    "## dataset2"
   ]
  },
  {
   "cell_type": "code",
   "execution_count": 198,
   "metadata": {},
   "outputs": [],
   "source": [
    "towardFreq_method2.reset_index(drop = True,inplace=True)\n",
    "awayFreq_method2.reset_index(drop = True,inplace=True)"
   ]
  },
  {
   "cell_type": "code",
   "execution_count": 199,
   "metadata": {},
   "outputs": [],
   "source": [
    "#parse for retrocue - shift counts using the relative shift distance\n",
    "msRetroX_method2 = pd.DataFrame(data=[shiftDf_method2.iloc[x:x+1,y].values[0] for x,y in enumerate(tsRetro_method2)])\n",
    "msRetroX_method2['identifier'] = shiftDf_method2.index.values\n",
    "msRetroX_method2 = pd.concat([msRetroX_method2,shiftDf_method2.iloc[:,-2:].reset_index(drop=True),],axis = 1)\n",
    "\n",
    "#parse for retrocue - shift counts using relative shift distance, further breaking down into toward/away\n",
    "msRetroX_toward_method2 = pd.DataFrame(data=[toward_method2.iloc[x:x+1,y].values[0] for x,y in enumerate(tsRetro_method2)])\n",
    "msRetroX_toward_method2['identifier'] = toward_method2.index.values\n",
    "msRetroX_toward_method2 = pd.concat([msRetroX_toward_method2,toward_method2.iloc[:,-2:].reset_index(drop=True)],axis = 1)\n",
    "\n",
    "msRetroX_away_method2 = pd.DataFrame(data=[away_method2.iloc[x:x+1,y].values[0] for x,y in enumerate(tsRetro_method2)])\n",
    "msRetroX_away_method2['identifier'] = away_method2.index.values\n",
    "msRetroX_away_method2 = pd.concat([msRetroX_away_method2,away_method2.iloc[:,-2:].reset_index(drop=True)],axis = 1)"
   ]
  },
  {
   "cell_type": "code",
   "execution_count": 200,
   "metadata": {},
   "outputs": [],
   "source": [
    "#parse for retrocue - shift counts using the shift distance to screen center\n",
    "msRetroX_ctr_method2 = pd.DataFrame(data=[shiftDf_ctrX_method2.iloc[x:x+1,y].values[0] for x,y in enumerate(tsRetro_method2)])\n",
    "msRetroX_ctr_method2['identifier'] = shiftDf_ctrX_method2.index.values\n",
    "msRetroX_ctr_method2 = msRetroX_ctr_method2.merge(psyFull[['identifier','cue_posi','cue_blk_validity']],on='identifier',how = 'left')"
   ]
  },
  {
   "cell_type": "code",
   "execution_count": 201,
   "metadata": {},
   "outputs": [],
   "source": [
    "#parse for retrocue period using the event dataframe - frequency\n",
    "towardRetroX_method2 = pd.DataFrame(data=[towardFreq_method2.iloc[x:x+1,y].values[0] for x,y in enumerate(tsRetro_method2)])\n",
    "towardRetroX_method2 = pd.concat([towardRetroX_method2,towardFreq_method2.iloc[:,-3:]],axis = 1)\n",
    "\n",
    "awayRetroX_method2 = pd.DataFrame(data=[awayFreq_method2.iloc[x:x+1,y].values[0] for x,y in enumerate(tsRetro_method2)])\n",
    "awayRetroX_method2 = pd.concat([awayRetroX_method2,awayFreq_method2.iloc[:,-3:]],axis = 1)"
   ]
  },
  {
   "cell_type": "markdown",
   "metadata": {},
   "source": [
    "# visualize example"
   ]
  },
  {
   "cell_type": "code",
   "execution_count": 234,
   "metadata": {},
   "outputs": [],
   "source": [
    "ival = np.random.randint(len(shiftDf_relX))\n"
   ]
  },
  {
   "cell_type": "code",
   "execution_count": 235,
   "metadata": {},
   "outputs": [
    {
     "data": {
      "image/png": "[encoded data removed]",
      "text/plain": [
       "<Figure size 1080x1080 with 3 Axes>"
      ]
     },
     "metadata": {
      "needs_background": "light"
     },
     "output_type": "display_data"
    }
   ],
   "source": [
    "fs(15,15)\n",
    "\n",
    "fig,ax = plt.subplots(nrows=3,sharex=True,sharey=True)\n",
    "xAxis = np.linspace(0,2.5,2500)\n",
    "ax[0].plot(xAxis,saccRetroX.iloc[ival,:2500],linewidth = 3,label = 'cleaned gaze data, horizontal channel')\n",
    "ax[1].plot(xAxis,msRetroX.iloc[ival,:2500],linewidth = 3,label = 'horizontal displacement')\n",
    "ax[2].plot(xAxis,msRetroX_ctr.iloc[ival,:2500],linewidth = 3,label = 'distance to screen center')\n",
    "\n",
    "[ax[i].vlines([0.5,2.5],-5,5,linestyles = 'dashed',colors = 'black') for i in range(3)]\n",
    "ax[0].legend(fontsize = 20,loc = 'lower left')\n",
    "ax[1].legend(fontsize = 20,loc = 'lower left')\n",
    "ax[2].legend(fontsize = 20,loc = 'lower left')\n",
    "[ax[i].tick_params(labelsize = 40) for i in range(3)]\n",
    "\n",
    "plt.tight_layout()"
   ]
  },
  {
   "cell_type": "markdown",
   "metadata": {},
   "source": [
    "# save"
   ]
  },
  {
   "cell_type": "markdown",
   "metadata": {},
   "source": [
    "## dataset 1"
   ]
  },
  {
   "cell_type": "code",
   "execution_count": null,
   "metadata": {},
   "outputs": [],
   "source": [
    "#save gaze, for retrocue period\n",
    "saccRetroBL.to_csv('Z:/LiteBrite_Yueying/data4Paper/cleanSacc_parsedByEventMarker/rej7Subj/cleanSacc_retrocueBL500ms.csv')\n",
    "saccRetro.to_csv('Z:/LiteBrite_Yueying/data4Paper/cleanSacc_parsedByEventMarker/rej7Subj/cleanSacc_retrocue2Probe.csv')"
   ]
  },
  {
   "cell_type": "code",
   "execution_count": null,
   "metadata": {},
   "outputs": [],
   "source": [
    "#save the microsaccade data, for retrocue epoch\n",
    "\n",
    "#shift distance relative to each identified shift (aft. - bef.)\n",
    "msRetroX_toward.to_csv('Z:/LiteBrite_YueyingDong/data4Paper/gazeShift2d/rej7Subj/gsRelX_towardRetro.csv')\n",
    "msRetroX_away.to_csv('Z:/LiteBrite_YueyingDong/data4Paper/gazeShift2d/rej7Subj/gsRelX_awayRetro.csv')\n",
    "\n",
    "#shift distance relative to screen center (aft. - 0)\n",
    "msRetroX_ctr.to_csv('Z:/LiteBrite_YueyingDong/data4Paper/gazeShift2d/rej7Subj/gsCtrX_retro.csv')\n",
    "\n",
    "#the frequency of identified shifts, toward&away\n",
    "towardRetroX.to_csv('Z:/LiteBrite_YueyingDong/data4Paper/gazeShift2d/rej7Subj/freqRelX_towardRetro.csv')\n",
    "awayRetroX.to_csv('Z:/LiteBrite_YueyingDong/data4Paper/gazeshift2d/rej7Subj/freqRelX_awayRetro.csv')"
   ]
  },
  {
   "cell_type": "markdown",
   "metadata": {},
   "source": [
    "## dataset 2"
   ]
  },
  {
   "cell_type": "code",
   "execution_count": null,
   "metadata": {},
   "outputs": [],
   "source": [
    "saccRetroBL_method2.to_csv('Z:/LiteBrite_Yueying/data4Paper/cleanSacc_parsedByEventMarker/cleanSacc_retrocueBL500ms.csv')\n",
    "saccRetro_method2.to_csv('Z:/LiteBrite_Yueying/data4Paper/cleanSacc_parsedByEventMarker/cleanSacc_retrocue2Probe.csv')"
   ]
  },
  {
   "cell_type": "code",
   "execution_count": null,
   "metadata": {},
   "outputs": [],
   "source": [
    "#save the microsaccade data, for retrocue epoch\n",
    "\n",
    "#shift distance relative to each identified shift (aft. - bef.)\n",
    "msRetroX_toward_method2.to_csv('Z:/LiteBrite_YueyingDong/data4Paper/gazeShift2d/gsRelX_towardRetro.csv')\n",
    "msRetroX_away_method2.to_csv('Z:/LiteBrite_YueyingDong/data4Paper/gazeShift2d/gsRelX_awayRetro.csv')\n",
    "\n",
    "#shift distance relative to screen center (aft. - 0)\n",
    "msRetroX_ctr_method2.to_csv('Z:/LiteBrite_YueyingDong/data4Paper/gazeShift2d/gsCtrX_retro.csv')\n",
    "\n",
    "#the frequency of identified shifts, toward&away\n",
    "towardRetroX_method2.to_csv('Z:/LiteBrite_YueyingDong/data4Paper/gazeShift2d/freqRelX_towardRetro.csv')\n",
    "awayRetroX_method2.to_csv('Z:/LiteBrite_YueyingDong/data4Paper/gazeshift2d/freqRelX_awayRetro.csv')"
   ]
  }
 ],
 "metadata": {
  "kernelspec": {
   "display_name": "base",
   "language": "python",
   "name": "python3"
  },
  "language_info": {
   "codemirror_mode": {
    "name": "ipython",
    "version": 3
   },
   "file_extension": ".py",
   "mimetype": "text/x-python",
   "name": "python",
   "nbconvert_exporter": "python",
   "pygments_lexer": "ipython3",
   "version": "3.9.7"
  },
  "orig_nbformat": 4
 },
 "nbformat": 4,
 "nbformat_minor": 2
}
